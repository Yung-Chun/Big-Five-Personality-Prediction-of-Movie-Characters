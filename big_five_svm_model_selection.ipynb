{
 "cells": [
  {
   "cell_type": "code",
   "execution_count": 1,
   "id": "dc0fcb65",
   "metadata": {},
   "outputs": [
    {
     "name": "stdout",
     "output_type": "stream",
     "text": [
      "Intel MKL WARNING: Support of Intel(R) Streaming SIMD Extensions 4.2 (Intel(R) SSE4.2) enabled only processors has been deprecated. Intel oneAPI Math Kernel Library 2025.0 will require Intel(R) Advanced Vector Extensions (Intel(R) AVX) instructions.\n",
      "Intel MKL WARNING: Support of Intel(R) Streaming SIMD Extensions 4.2 (Intel(R) SSE4.2) enabled only processors has been deprecated. Intel oneAPI Math Kernel Library 2025.0 will require Intel(R) Advanced Vector Extensions (Intel(R) AVX) instructions.\n"
     ]
    }
   ],
   "source": [
    "import pandas as pd\n",
    "import numpy as np\n",
    "import seaborn as sns\n",
    "import matplotlib.pyplot as plt\n",
    "import plotly.express as px\n",
    "import plotly.express as px\n",
    "import plotly.graph_objects as go\n",
    "import re\n",
    "from pathlib import Path\n",
    "import os\n",
    "import time\n",
    "import csv\n",
    "import openai\n",
    "import tiktoken\n",
    "from statistics import mean\n",
    "from sklearn.feature_extraction.text import CountVectorizer\n",
    "from gensim.parsing.preprocessing import remove_stopwords\n",
    "from sklearn.svm import SVC, LinearSVC\n",
    "from sklearn.linear_model import LogisticRegression, LinearRegression, Ridge, Lasso\n",
    "from sklearn.ensemble import VotingClassifier, BaggingRegressor, BaggingClassifier, RandomForestRegressor, RandomForestClassifier, AdaBoostClassifier, AdaBoostRegressor, GradientBoostingRegressor, GradientBoostingClassifier\n",
    "from sklearn.metrics import confusion_matrix, classification_report, precision_score, get_scorer_names, mean_squared_error, r2_score, mean_squared_error, roc_auc_score, ConfusionMatrixDisplay, accuracy_score\n",
    "from sklearn.model_selection import train_test_split, LeaveOneOut, cross_val_score, KFold, GridSearchCV\n",
    "import warnings\n",
    "warnings.filterwarnings('ignore')\n",
    "\n",
    "# import nltk\n",
    "# from nltk.stem import WordNetLemmatizer\n",
    "# nltk.download('wordnet')\n",
    "# lemmatizer = WordNetLemmatizer()\n",
    "# words = set(nltk.corpus.words.words())"
   ]
  },
  {
   "cell_type": "code",
   "execution_count": 2,
   "id": "9da79c8b",
   "metadata": {},
   "outputs": [],
   "source": [
    "training_data_path = Path('training_data')\n",
    "model_selection_record_path = Path('model_selection_record')"
   ]
  },
  {
   "cell_type": "markdown",
   "id": "09b69e4a",
   "metadata": {},
   "source": [
    "## data processing"
   ]
  },
  {
   "cell_type": "code",
   "execution_count": 4,
   "id": "2e618489",
   "metadata": {},
   "outputs": [],
   "source": [
    "essays = pd.read_csv(training_data_path / 'essays.csv', encoding='cp1252')\n",
    "# mypersonality = pd.read_csv(root_path / 'mypersonality_final.csv', encoding='cp1252')"
   ]
  },
  {
   "cell_type": "code",
   "execution_count": 4,
   "id": "6127be18",
   "metadata": {},
   "outputs": [],
   "source": [
    "for col in essays.columns[2:7]:\n",
    "    essays[col] = essays[col].replace('n', '0')\n",
    "    essays[col] = essays[col].replace('y', '1')"
   ]
  },
  {
   "cell_type": "code",
   "execution_count": 5,
   "id": "33a5d05f",
   "metadata": {},
   "outputs": [],
   "source": [
    "# for col in mypersonality.columns[7:12]:\n",
    "#     mypersonality[col] = mypersonality[col].replace('n', '0')\n",
    "#     mypersonality[col] = mypersonality[col].replace('y', '1')"
   ]
  },
  {
   "cell_type": "code",
   "execution_count": 5,
   "id": "d288f362",
   "metadata": {},
   "outputs": [],
   "source": [
    "def clear_text(sentences, rmpunc, rmsw):\n",
    "    \n",
    "    clean_sentences = []\n",
    "    for sentence in sentences:\n",
    "        sentence = sentence.lower()\n",
    "        sentence = re.sub(\"\\d+\", \"\", sentence)\n",
    "        \n",
    "        # punc\n",
    "        if rmpunc == True:\n",
    "            sentence = re.sub(r'[^\\w\\s]', ' ', sentence)\n",
    "            sentence = re.sub(r'\\b[a-zA-Z]\\b', '', sentence)\n",
    "            \n",
    "        # stopwords\n",
    "        if rmsw == True:\n",
    "            sentence = remove_stopwords(sentence)\n",
    "            \n",
    "        sentence = ' '.join([w for w in sentence.split(' ') if w != ''])\n",
    "        clean_sentences.append(sentence)\n",
    "        \n",
    "    file_name = 'essays_embedding'\n",
    "    if rmpunc == True:\n",
    "        file_name += '_rmpunc'\n",
    "    if rmsw == True:\n",
    "        file_name += '_rmsw'\n",
    "    \n",
    "    return file_name, clean_sentences"
   ]
  },
  {
   "cell_type": "code",
   "execution_count": 6,
   "id": "984e0520",
   "metadata": {},
   "outputs": [],
   "source": [
    "file_name, essays['clean_text'] = clear_text(essays['TEXT'], True, True)"
   ]
  },
  {
   "cell_type": "code",
   "execution_count": 84,
   "id": "1b315ded",
   "metadata": {
    "collapsed": true
   },
   "outputs": [
    {
     "data": {
      "text/html": [
       "<div>\n",
       "<style scoped>\n",
       "    .dataframe tbody tr th:only-of-type {\n",
       "        vertical-align: middle;\n",
       "    }\n",
       "\n",
       "    .dataframe tbody tr th {\n",
       "        vertical-align: top;\n",
       "    }\n",
       "\n",
       "    .dataframe thead th {\n",
       "        text-align: right;\n",
       "    }\n",
       "</style>\n",
       "<table border=\"1\" class=\"dataframe\">\n",
       "  <thead>\n",
       "    <tr style=\"text-align: right;\">\n",
       "      <th></th>\n",
       "      <th>#AUTHID</th>\n",
       "      <th>TEXT</th>\n",
       "      <th>cEXT</th>\n",
       "      <th>cNEU</th>\n",
       "      <th>cAGR</th>\n",
       "      <th>cCON</th>\n",
       "      <th>cOPN</th>\n",
       "      <th>clean_text</th>\n",
       "    </tr>\n",
       "  </thead>\n",
       "  <tbody>\n",
       "    <tr>\n",
       "      <th>0</th>\n",
       "      <td>1997_504851.txt</td>\n",
       "      <td>Well, right now I just woke up from a mid-day ...</td>\n",
       "      <td>0</td>\n",
       "      <td>1</td>\n",
       "      <td>1</td>\n",
       "      <td>0</td>\n",
       "      <td>1</td>\n",
       "      <td>well right now just woke up from mid day nap i...</td>\n",
       "    </tr>\n",
       "    <tr>\n",
       "      <th>1</th>\n",
       "      <td>1997_605191.txt</td>\n",
       "      <td>Well, here we go with the stream of consciousn...</td>\n",
       "      <td>0</td>\n",
       "      <td>0</td>\n",
       "      <td>1</td>\n",
       "      <td>0</td>\n",
       "      <td>0</td>\n",
       "      <td>well here we go with the stream of consciousne...</td>\n",
       "    </tr>\n",
       "    <tr>\n",
       "      <th>2</th>\n",
       "      <td>1997_687252.txt</td>\n",
       "      <td>An open keyboard and buttons to push. The thin...</td>\n",
       "      <td>0</td>\n",
       "      <td>1</td>\n",
       "      <td>0</td>\n",
       "      <td>1</td>\n",
       "      <td>1</td>\n",
       "      <td>an open keyboard and buttons to push the thing...</td>\n",
       "    </tr>\n",
       "    <tr>\n",
       "      <th>3</th>\n",
       "      <td>1997_568848.txt</td>\n",
       "      <td>I can't believe it!  It's really happening!  M...</td>\n",
       "      <td>1</td>\n",
       "      <td>0</td>\n",
       "      <td>1</td>\n",
       "      <td>1</td>\n",
       "      <td>0</td>\n",
       "      <td>can believe it it really happening my pulse is...</td>\n",
       "    </tr>\n",
       "    <tr>\n",
       "      <th>4</th>\n",
       "      <td>1997_688160.txt</td>\n",
       "      <td>Well, here I go with the good old stream of co...</td>\n",
       "      <td>1</td>\n",
       "      <td>0</td>\n",
       "      <td>1</td>\n",
       "      <td>0</td>\n",
       "      <td>1</td>\n",
       "      <td>well here go with the good old stream of consc...</td>\n",
       "    </tr>\n",
       "  </tbody>\n",
       "</table>\n",
       "</div>"
      ],
      "text/plain": [
       "           #AUTHID                                               TEXT cEXT  \\\n",
       "0  1997_504851.txt  Well, right now I just woke up from a mid-day ...    0   \n",
       "1  1997_605191.txt  Well, here we go with the stream of consciousn...    0   \n",
       "2  1997_687252.txt  An open keyboard and buttons to push. The thin...    0   \n",
       "3  1997_568848.txt  I can't believe it!  It's really happening!  M...    1   \n",
       "4  1997_688160.txt  Well, here I go with the good old stream of co...    1   \n",
       "\n",
       "  cNEU cAGR cCON cOPN                                         clean_text  \n",
       "0    1    1    0    1  well right now just woke up from mid day nap i...  \n",
       "1    0    1    0    0  well here we go with the stream of consciousne...  \n",
       "2    1    0    1    1  an open keyboard and buttons to push the thing...  \n",
       "3    0    1    1    0  can believe it it really happening my pulse is...  \n",
       "4    0    1    0    1  well here go with the good old stream of consc...  "
      ]
     },
     "execution_count": 84,
     "metadata": {},
     "output_type": "execute_result"
    }
   ],
   "source": [
    "essays.head()"
   ]
  },
  {
   "cell_type": "code",
   "execution_count": 93,
   "id": "c6151c1a",
   "metadata": {},
   "outputs": [],
   "source": [
    "# remove data which is too short\n",
    "# essays['clean_text_length'] = [len(t.split(' ')) for t in essays.clean_text]\n",
    "# essays = essays[essays.clean_text_length >= 100]"
   ]
  },
  {
   "cell_type": "code",
   "execution_count": 62,
   "id": "7465b8e3",
   "metadata": {},
   "outputs": [
    {
     "data": {
      "text/plain": [
       "(2468, 8)"
      ]
     },
     "execution_count": 62,
     "metadata": {},
     "output_type": "execute_result"
    }
   ],
   "source": [
    "essays.shape"
   ]
  },
  {
   "cell_type": "markdown",
   "id": "344ab860",
   "metadata": {},
   "source": [
    "## embedding"
   ]
  },
  {
   "cell_type": "code",
   "execution_count": 65,
   "id": "399630ca",
   "metadata": {},
   "outputs": [],
   "source": [
    "openai.api_key = 'your-api-key'"
   ]
  },
  {
   "cell_type": "code",
   "execution_count": 66,
   "id": "4066db42",
   "metadata": {},
   "outputs": [],
   "source": [
    "def get_embedding(text):\n",
    "    response = openai.Embedding.create(model=\"text-embedding-ada-002\", input=text)\n",
    "    return response['data'][0]['embedding']"
   ]
  },
  {
   "cell_type": "code",
   "execution_count": 81,
   "id": "1649d281",
   "metadata": {},
   "outputs": [],
   "source": [
    "essays['clean_text_embedding'] = [get_embedding(ct) for ct in essays.clean_text]\n",
    "essays.to_csv(training_data_path / f'{file_name}.csv', encoding = 'cp1252', index = False) "
   ]
  },
  {
   "cell_type": "code",
   "execution_count": 34,
   "id": "6ebb3057",
   "metadata": {},
   "outputs": [],
   "source": [
    "# mypersonality['clean_text_embedding'] = [get_embedding(ct) for ct in mypersonality.clean_text]\n",
    "# mypersonality.to_csv(root_path / 'mypersonality_final_embedding.csv', encoding = 'cp1252') "
   ]
  },
  {
   "cell_type": "code",
   "execution_count": 26,
   "id": "d45a2644",
   "metadata": {
    "scrolled": true
   },
   "outputs": [
    {
     "data": {
      "text/html": [
       "<div>\n",
       "<style scoped>\n",
       "    .dataframe tbody tr th:only-of-type {\n",
       "        vertical-align: middle;\n",
       "    }\n",
       "\n",
       "    .dataframe tbody tr th {\n",
       "        vertical-align: top;\n",
       "    }\n",
       "\n",
       "    .dataframe thead th {\n",
       "        text-align: right;\n",
       "    }\n",
       "</style>\n",
       "<table border=\"1\" class=\"dataframe\">\n",
       "  <thead>\n",
       "    <tr style=\"text-align: right;\">\n",
       "      <th></th>\n",
       "      <th>#AUTHID</th>\n",
       "      <th>TEXT</th>\n",
       "      <th>cEXT</th>\n",
       "      <th>cNEU</th>\n",
       "      <th>cAGR</th>\n",
       "      <th>cCON</th>\n",
       "      <th>cOPN</th>\n",
       "      <th>clean_text</th>\n",
       "      <th>clean_text_embedding</th>\n",
       "    </tr>\n",
       "  </thead>\n",
       "  <tbody>\n",
       "    <tr>\n",
       "      <th>0</th>\n",
       "      <td>1997_504851.txt</td>\n",
       "      <td>Well, right now I just woke up from a mid-day ...</td>\n",
       "      <td>0</td>\n",
       "      <td>1</td>\n",
       "      <td>1</td>\n",
       "      <td>0</td>\n",
       "      <td>1</td>\n",
       "      <td>right woke mid day nap sort weird remember sta...</td>\n",
       "      <td>[0.0056798579171299934, 0.003075016662478447, ...</td>\n",
       "    </tr>\n",
       "    <tr>\n",
       "      <th>1</th>\n",
       "      <td>1997_605191.txt</td>\n",
       "      <td>Well, here we go with the stream of consciousn...</td>\n",
       "      <td>0</td>\n",
       "      <td>0</td>\n",
       "      <td>1</td>\n",
       "      <td>0</td>\n",
       "      <td>0</td>\n",
       "      <td>stream consciousness essay like high school pr...</td>\n",
       "      <td>[0.005028173327445984, 0.00402528652921319, 0....</td>\n",
       "    </tr>\n",
       "    <tr>\n",
       "      <th>2</th>\n",
       "      <td>1997_687252.txt</td>\n",
       "      <td>An open keyboard and buttons to push. The thin...</td>\n",
       "      <td>0</td>\n",
       "      <td>1</td>\n",
       "      <td>0</td>\n",
       "      <td>1</td>\n",
       "      <td>1</td>\n",
       "      <td>open keyboard button push thing finally worked...</td>\n",
       "      <td>[-0.01287815161049366, 0.008358887396752834, 0...</td>\n",
       "    </tr>\n",
       "    <tr>\n",
       "      <th>3</th>\n",
       "      <td>1997_568848.txt</td>\n",
       "      <td>I can't believe it!  It's really happening!  M...</td>\n",
       "      <td>1</td>\n",
       "      <td>0</td>\n",
       "      <td>1</td>\n",
       "      <td>1</td>\n",
       "      <td>0</td>\n",
       "      <td>believe happening pulse racing like mad like f...</td>\n",
       "      <td>[-0.02485239878296852, -0.0013808832736685872,...</td>\n",
       "    </tr>\n",
       "    <tr>\n",
       "      <th>4</th>\n",
       "      <td>1997_688160.txt</td>\n",
       "      <td>Well, here I go with the good old stream of co...</td>\n",
       "      <td>1</td>\n",
       "      <td>0</td>\n",
       "      <td>1</td>\n",
       "      <td>0</td>\n",
       "      <td>1</td>\n",
       "      <td>good old stream consciousness assignment feel ...</td>\n",
       "      <td>[0.016445200890302658, -0.0015039060963317752,...</td>\n",
       "    </tr>\n",
       "  </tbody>\n",
       "</table>\n",
       "</div>"
      ],
      "text/plain": [
       "           #AUTHID                                               TEXT cEXT  \\\n",
       "0  1997_504851.txt  Well, right now I just woke up from a mid-day ...    0   \n",
       "1  1997_605191.txt  Well, here we go with the stream of consciousn...    0   \n",
       "2  1997_687252.txt  An open keyboard and buttons to push. The thin...    0   \n",
       "3  1997_568848.txt  I can't believe it!  It's really happening!  M...    1   \n",
       "4  1997_688160.txt  Well, here I go with the good old stream of co...    1   \n",
       "\n",
       "  cNEU cAGR cCON cOPN                                         clean_text  \\\n",
       "0    1    1    0    1  right woke mid day nap sort weird remember sta...   \n",
       "1    0    1    0    0  stream consciousness essay like high school pr...   \n",
       "2    1    0    1    1  open keyboard button push thing finally worked...   \n",
       "3    0    1    1    0  believe happening pulse racing like mad like f...   \n",
       "4    0    1    0    1  good old stream consciousness assignment feel ...   \n",
       "\n",
       "                                clean_text_embedding  \n",
       "0  [0.0056798579171299934, 0.003075016662478447, ...  \n",
       "1  [0.005028173327445984, 0.00402528652921319, 0....  \n",
       "2  [-0.01287815161049366, 0.008358887396752834, 0...  \n",
       "3  [-0.02485239878296852, -0.0013808832736685872,...  \n",
       "4  [0.016445200890302658, -0.0015039060963317752,...  "
      ]
     },
     "execution_count": 26,
     "metadata": {},
     "output_type": "execute_result"
    }
   ],
   "source": [
    "essays.head()"
   ]
  },
  {
   "cell_type": "markdown",
   "id": "2332f29f",
   "metadata": {},
   "source": [
    "## SVM classifier - model selection"
   ]
  },
  {
   "cell_type": "code",
   "execution_count": 277,
   "id": "b54f08ec",
   "metadata": {},
   "outputs": [],
   "source": [
    "def the_best_svc(y_col, kernel, gamma, s, e, n):\n",
    "    X = [x for x in essays_embedding['clean_text_embedding']]\n",
    "    y = essays_embedding[y_col]\n",
    "    \n",
    "    X_train, X_test, y_train, y_test = train_test_split(X,\n",
    "                                                    y,\n",
    "                                                    stratify = y,\n",
    "                                                    test_size=0.2,\n",
    "                                                    random_state=42)\n",
    "    \n",
    "    Cs = np.logspace(s, e, n)\n",
    "   \n",
    "    svc = SVC(kernel = kernel,  gamma = gamma, random_state = 42)\n",
    "    param_grid = {'C': Cs}\n",
    "    search = GridSearchCV(svc, param_grid,  return_train_score = True, n_jobs = -1)\n",
    "    search.fit(X_train, y_train)\n",
    "    \n",
    "    record = pd.DataFrame()\n",
    "    record['C'] = Cs\n",
    "    record['mean_train_score'] = search.cv_results_['mean_train_score']\n",
    "    record['mean_test_score'] = search.cv_results_['mean_test_score']\n",
    "    record['score_gap'] = record['mean_train_score'] - record['mean_test_score']\n",
    "    record['best_score'] = search.best_score_\n",
    "    record['best_params'] = search.best_params_['C']\n",
    "    record['y'] = y_col\n",
    "    record['kernel'] = svc.kernel\n",
    "    record['gamma'] = svc.gamma\n",
    "    \n",
    "    record = record.reindex(columns=['y', 'kernel', 'gamma', 'C', 'mean_train_score', 'mean_test_score',\n",
    "                                     'score_gap', 'best_score', 'best_params'])\n",
    "    \n",
    "    best_params.update({y_col:search.best_params_['C']})\n",
    "    \n",
    "    record.to_csv(model_selection_record_path / f'svc_{file_name}_{y_col}_{kernel}_{gamma}_{len(Cs)}.csv', index=False)"
   ]
  },
  {
   "cell_type": "code",
   "execution_count": 242,
   "id": "419d0222",
   "metadata": {},
   "outputs": [],
   "source": [
    "file_name = 'essays_embedding_rmpunc_rmsw'\n",
    "# file_name = 'essays_embedding_rmpunc'\n",
    "# file_name = 'essays_embedding'\n",
    "# file_name = 'essays_embedding_rmsw'"
   ]
  },
  {
   "cell_type": "code",
   "execution_count": 243,
   "id": "c5ce4f02",
   "metadata": {},
   "outputs": [],
   "source": [
    "essays_embedding = pd.read_csv(training_data_path / f'{file_name}.csv', encoding = 'cp1252') \n",
    "# mypersonality_embedding = pd.read_csv(training_data_path / 'mypersonality_final_embedding.csv', encoding = 'cp1252') "
   ]
  },
  {
   "cell_type": "code",
   "execution_count": null,
   "id": "dbf407b3",
   "metadata": {},
   "outputs": [],
   "source": [
    "essays_embedding = pd.DataFrame()"
   ]
  },
  {
   "cell_type": "code",
   "execution_count": 244,
   "id": "40c15b7c",
   "metadata": {},
   "outputs": [],
   "source": [
    "essays_embedding['clean_text_embedding'] = [\n",
    "    np.array([float(n) for n in x[1:-2].split(', ')])\n",
    "    for x in essays_embedding['clean_text_embedding']\n",
    "]\n",
    "\n",
    "# mypersonality_embedding['clean_text_embedding'] = [\n",
    "#     np.array([float(n) for n in x[1:-2].split(', ')])\n",
    "#     for x in mypersonality_embedding['clean_text_embedding']\n",
    "# ]"
   ]
  },
  {
   "cell_type": "code",
   "execution_count": 74,
   "id": "7e16d138",
   "metadata": {},
   "outputs": [],
   "source": [
    "# data = pd.concat([\n",
    "#     essays_embedding[['cEXT','clean_text_embedding']],\n",
    "#     mypersonality_embedding[['cEXT','clean_text_embedding']]\n",
    "# ])"
   ]
  },
  {
   "cell_type": "code",
   "execution_count": 59,
   "id": "419115ed",
   "metadata": {},
   "outputs": [],
   "source": [
    "# mypersonality_embedding['clean_text_embedding'] = [\n",
    "#     [float(n) for n in x[1:-2].split(', ')]\n",
    "#     for x in mypersonality_embedding['clean_text_embedding']\n",
    "# ]"
   ]
  },
  {
   "cell_type": "code",
   "execution_count": 278,
   "id": "5bfc6aa2",
   "metadata": {
    "collapsed": true
   },
   "outputs": [
    {
     "name": "stdout",
     "output_type": "stream",
     "text": [
      "running y = cEXT, file_name = essays_embedding_rmpunc_rmsw at Wed Aug 30 12:14:10 2023\n",
      "Intel MKL WARNING: Support of Intel(R) Streaming SIMD Extensions 4.2 (Intel(R) SSE4.2) enabled only processors has been deprecated. Intel oneAPI Math Kernel Library 2025.0 will require Intel(R) Advanced Vector Extensions (Intel(R) AVX) instructions.\n",
      "Intel MKL WARNING: Support of Intel(R) Streaming SIMD Extensions 4.2 (Intel(R) SSE4.2) enabled only processors has been deprecated. Intel oneAPI Math Kernel Library 2025.0 will require Intel(R) Advanced Vector Extensions (Intel(R) AVX) instructions.\n",
      "Intel MKL WARNING: Support of Intel(R) Streaming SIMD Extensions 4.2 (Intel(R) SSE4.2) enabled only processors has been deprecated. Intel oneAPI Math Kernel Library 2025.0 will require Intel(R) Advanced Vector Extensions (Intel(R) AVX) instructions.\n",
      "Intel MKL WARNING: Support of Intel(R) Streaming SIMD Extensions 4.2 (Intel(R) SSE4.2) enabled only processors has been deprecated. Intel oneAPI Math Kernel Library 2025.0 will require Intel(R) Advanced Vector Extensions (Intel(R) AVX) instructions.\n",
      "Intel MKL WARNING: Support of Intel(R) Streaming SIMD Extensions 4.2 (Intel(R) SSE4.2) enabled only processors has been deprecated. Intel oneAPI Math Kernel Library 2025.0 will require Intel(R) Advanced Vector Extensions (Intel(R) AVX) instructions.\n",
      "Intel MKL WARNING: Support of Intel(R) Streaming SIMD Extensions 4.2 (Intel(R) SSE4.2) enabled only processors has been deprecated. Intel oneAPI Math Kernel Library 2025.0 will require Intel(R) Advanced Vector Extensions (Intel(R) AVX) instructions.\n",
      "Intel MKL WARNING: Support of Intel(R) Streaming SIMD Extensions 4.2 (Intel(R) SSE4.2) enabled only processors has been deprecated. Intel oneAPI Math Kernel Library 2025.0 will require Intel(R) Advanced Vector Extensions (Intel(R) AVX) instructions.\n",
      "Intel MKL WARNING: Support of Intel(R) Streaming SIMD Extensions 4.2 (Intel(R) SSE4.2) enabled only processors has been deprecated. Intel oneAPI Math Kernel Library 2025.0 will require Intel(R) Advanced Vector Extensions (Intel(R) AVX) instructions.\n",
      "Intel MKL WARNING: Support of Intel(R) Streaming SIMD Extensions 4.2 (Intel(R) SSE4.2) enabled only processors has been deprecated. Intel oneAPI Math Kernel Library 2025.0 will require Intel(R) Advanced Vector Extensions (Intel(R) AVX) instructions.Intel MKL WARNING: Support of Intel(R) Streaming SIMD Extensions 4.2 (Intel(R) SSE4.2) enabled only processors has been deprecated. Intel oneAPI Math Kernel Library 2025.0 will require Intel(R) Advanced Vector Extensions (Intel(R) AVX) instructions.\n",
      "\n",
      "Intel MKL WARNING: Support of Intel(R) Streaming SIMD Extensions 4.2 (Intel(R) SSE4.2) enabled only processors has been deprecated. Intel oneAPI Math Kernel Library 2025.0 will require Intel(R) Advanced Vector Extensions (Intel(R) AVX) instructions.\n",
      "Intel MKL WARNING: Support of Intel(R) Streaming SIMD Extensions 4.2 (Intel(R) SSE4.2) enabled only processors has been deprecated. Intel oneAPI Math Kernel Library 2025.0 will require Intel(R) Advanced Vector Extensions (Intel(R) AVX) instructions.\n",
      "Intel MKL WARNING: Support of Intel(R) Streaming SIMD Extensions 4.2 (Intel(R) SSE4.2) enabled only processors has been deprecated. Intel oneAPI Math Kernel Library 2025.0 will require Intel(R) Advanced Vector Extensions (Intel(R) AVX) instructions.\n",
      "Intel MKL WARNING: Support of Intel(R) Streaming SIMD Extensions 4.2 (Intel(R) SSE4.2) enabled only processors has been deprecated. Intel oneAPI Math Kernel Library 2025.0 will require Intel(R) Advanced Vector Extensions (Intel(R) AVX) instructions.\n",
      "Intel MKL WARNING: Support of Intel(R) Streaming SIMD Extensions 4.2 (Intel(R) SSE4.2) enabled only processors has been deprecated. Intel oneAPI Math Kernel Library 2025.0 will require Intel(R) Advanced Vector Extensions (Intel(R) AVX) instructions.\n",
      "Intel MKL WARNING: Support of Intel(R) Streaming SIMD Extensions 4.2 (Intel(R) SSE4.2) enabled only processors has been deprecated. Intel oneAPI Math Kernel Library 2025.0 will require Intel(R) Advanced Vector Extensions (Intel(R) AVX) instructions.\n",
      "running y = cNEU, file_name = essays_embedding_rmpunc_rmsw at Wed Aug 30 12:19:52 2023\n",
      "running y = cAGR, file_name = essays_embedding_rmpunc_rmsw at Wed Aug 30 12:25:26 2023\n",
      "running y = cCON, file_name = essays_embedding_rmpunc_rmsw at Wed Aug 30 12:31:01 2023\n",
      "running y = cOPN, file_name = essays_embedding_rmpunc_rmsw at Wed Aug 30 12:36:36 2023\n",
      "done\n"
     ]
    }
   ],
   "source": [
    "y_cols = ['cEXT', 'cNEU', 'cAGR', 'cCON', 'cOPN']\n",
    "# y_cols = ['cEXT']\n",
    "\n",
    "best_params = {}\n",
    "\n",
    "for y_col in y_cols:\n",
    "    print(f'running y = {y_col}, file_name = {file_name} at {time.ctime()}')\n",
    "    the_best_svc(y_col, 'linear', 'scale', 0, 0.33, 50)\n",
    "    \n",
    "print('done')"
   ]
  },
  {
   "cell_type": "markdown",
   "id": "e039622b",
   "metadata": {},
   "source": [
    "## visualization"
   ]
  },
  {
   "cell_type": "code",
   "execution_count": 10,
   "id": "f18df9ee",
   "metadata": {},
   "outputs": [
    {
     "name": "stdout",
     "output_type": "stream",
     "text": [
      "opening svc_essays_embedding_rmpunc_rmsw_cCON_linear_scale_50 at Thu Jan 11 21:28:06 2024\n",
      "opening svc_essays_embedding_rmpunc_rmsw_cOPN_linear_scale_50 at Thu Jan 11 21:28:06 2024\n",
      "opening svc_essays_embedding_rmpunc_rmsw_cNEU_linear_scale_50 at Thu Jan 11 21:28:06 2024\n",
      "opening svc_essays_embedding_rmpunc_rmsw_cEXT_linear_scale_50 at Thu Jan 11 21:28:06 2024\n",
      "opening svc_essays_embedding_rmpunc_rmsw_cAGR_linear_scale_50 at Thu Jan 11 21:28:06 2024\n"
     ]
    }
   ],
   "source": [
    "all_records = pd.DataFrame()\n",
    "y_cols = ['cEXT', 'cNEU', 'cAGR', 'cCON', 'cOPN']\n",
    "\n",
    "for file in model_selection_record_path.glob(f'*svc_essays_embedding*linear*50*'):\n",
    "    print(f'opening {file.stem} at {time.ctime()}')\n",
    "\n",
    "    temp = pd.read_csv(model_selection_record_path / f'{file.stem}.csv')\n",
    "    temp['file'] = file.stem.split('svc_essays_embedding_')[1]\n",
    "    all_records = pd.concat([all_records, temp])"
   ]
  },
  {
   "cell_type": "code",
   "execution_count": 12,
   "id": "1b3ff9e1",
   "metadata": {},
   "outputs": [],
   "source": [
    "all_records = all_records.replace('cCON', 'Conscientiousness')\\\n",
    "                         .replace('cEXT', 'Extraversion')\\\n",
    "                         .replace('cNEU', 'Neuroticism')\\\n",
    "                         .replace('cAGR', 'Agreeableness')\\\n",
    "                         .replace('cOPN', 'Openness')"
   ]
  },
  {
   "cell_type": "code",
   "execution_count": 16,
   "id": "a0ae456f",
   "metadata": {},
   "outputs": [
    {
     "data": {
      "text/html": [
       "<div>\n",
       "<style scoped>\n",
       "    .dataframe tbody tr th:only-of-type {\n",
       "        vertical-align: middle;\n",
       "    }\n",
       "\n",
       "    .dataframe tbody tr th {\n",
       "        vertical-align: top;\n",
       "    }\n",
       "\n",
       "    .dataframe thead th {\n",
       "        text-align: right;\n",
       "    }\n",
       "</style>\n",
       "<table border=\"1\" class=\"dataframe\">\n",
       "  <thead>\n",
       "    <tr style=\"text-align: right;\">\n",
       "      <th></th>\n",
       "      <th>y</th>\n",
       "      <th>best_params</th>\n",
       "      <th>best_score</th>\n",
       "    </tr>\n",
       "  </thead>\n",
       "  <tbody>\n",
       "    <tr>\n",
       "      <th>0</th>\n",
       "      <td>Openness</td>\n",
       "      <td>2.105064</td>\n",
       "      <td>0.611951</td>\n",
       "    </tr>\n",
       "    <tr>\n",
       "      <th>0</th>\n",
       "      <td>Conscientiousness</td>\n",
       "      <td>1.114661</td>\n",
       "      <td>0.558752</td>\n",
       "    </tr>\n",
       "    <tr>\n",
       "      <th>0</th>\n",
       "      <td>Extraversion</td>\n",
       "      <td>1.830851</td>\n",
       "      <td>0.553697</td>\n",
       "    </tr>\n",
       "    <tr>\n",
       "      <th>0</th>\n",
       "      <td>Agreeableness</td>\n",
       "      <td>1.617244</td>\n",
       "      <td>0.548114</td>\n",
       "    </tr>\n",
       "    <tr>\n",
       "      <th>0</th>\n",
       "      <td>Neuroticism</td>\n",
       "      <td>1.097509</td>\n",
       "      <td>0.587152</td>\n",
       "    </tr>\n",
       "  </tbody>\n",
       "</table>\n",
       "</div>"
      ],
      "text/plain": [
       "                   y  best_params  best_score\n",
       "0           Openness     2.105064    0.611951\n",
       "0  Conscientiousness     1.114661    0.558752\n",
       "0       Extraversion     1.830851    0.553697\n",
       "0      Agreeableness     1.617244    0.548114\n",
       "0        Neuroticism     1.097509    0.587152"
      ]
     },
     "execution_count": 16,
     "metadata": {},
     "output_type": "execute_result"
    }
   ],
   "source": [
    "new_y_cols = ['Openness', 'Conscientiousness', 'Extraversion', 'Agreeableness', 'Neuroticism']\n",
    "best = pd.DataFrame(columns=['y', 'best_params', 'best_score'])\n",
    "for y_col in new_y_cols:\n",
    "    best = pd.concat([best, all_records[all_records.y == y_col][['y', 'best_params', 'best_score']]])\n",
    "    \n",
    "best = best.drop_duplicates()\n",
    "best"
   ]
  },
  {
   "cell_type": "code",
   "execution_count": 18,
   "id": "9000aa14",
   "metadata": {},
   "outputs": [],
   "source": [
    "# write into a yaml file\n",
    "import yaml\n",
    "\n",
    "best_params = {}\n",
    "for rows in best.itertuples():\n",
    "    best_params.update({\n",
    "        rows.y: rows.best_params\n",
    "    })\n",
    "\n",
    "with open('the_best_params.yaml', 'w') as f:\n",
    "    yaml.dump(best_params, f)"
   ]
  },
  {
   "cell_type": "markdown",
   "id": "1d39f172",
   "metadata": {},
   "source": [
    "## visualize the record"
   ]
  },
  {
   "cell_type": "code",
   "execution_count": 26,
   "id": "72185439",
   "metadata": {},
   "outputs": [
    {
     "data": {
      "application/vnd.plotly.v1+json": {
       "config": {
        "plotlyServerURL": "https://plot.ly"
       },
       "data": [
        {
         "line": {
          "color": "darksalmon",
          "width": 2
         },
         "marker": {
          "size": 5,
          "symbol": "circle"
         },
         "mode": "lines+markers",
         "name": "Mean Train Score of Openness",
         "type": "scatter",
         "x": [
          1,
          1.0156280663718715,
          1.0315003692022668,
          1.04762072543477,
          1.063993011664413,
          1.080621165069912,
          1.0975091843604738,
          1.114661130737398,
          1.1320811288707076,
          1.1497733678910422,
          1.1677421023970538,
          1.185991653478544,
          1.2045264097555923,
          1.223350828433925,
          1.2424694363767743,
          1.2618868311934928,
          1.2816076823451754,
          1.3016367322675664,
          1.32197879751151,
          1.342638769901227,
          1.3636216177106917,
          1.384932386858393,
          1.4065762021207706,
          1.428558268364609,
          1.4508838717986972,
          1.4735583812450452,
          1.4965872494299706,
          1.5199760142953591,
          1.54373030033042,
          1.567855819924253,
          1.5923583747395544,
          1.6172438571077898,
          1.642518251446172,
          1.6681876356967833,
          1.6942581827881882,
          1.720736162119889,
          1.7476279410699778,
          1.7749399865263569,
          1.80267886644188,
          1.830851251413804,
          1.859463916287923,
          1.8885237417877707,
          1.9180377161692852,
          1.9480129369013324,
          1.9784566123724907,
          2.0093760636245164,
          2.0407787261128902,
          2.0726721514948863,
          2.105064009445578,
          2.137962089502232
         ],
         "y": [
          0.662106925549739,
          0.6628668200511459,
          0.6634999719418635,
          0.6640065415541001,
          0.6652730056677435,
          0.6651462630570542,
          0.6659061575584612,
          0.6669192967829343,
          0.6672992039505856,
          0.668312503507267,
          0.6693256427317402,
          0.6702118790133157,
          0.6713519211806864,
          0.6718585709590271,
          0.6729983726280854,
          0.6733783599618409,
          0.6733784401279451,
          0.674771646852278,
          0.6751515540199293,
          0.6760381911320257,
          0.6765448409103663,
          0.6764181784657811,
          0.6773048155778774,
          0.6783181151345588,
          0.6792046720805509,
          0.6800913091926473,
          0.6813578534723949,
          0.6817378408061503,
          0.6822444104183869,
          0.6821177479738016,
          0.6835108745320304,
          0.683890861865786,
          0.6845240939226077,
          0.6845240137565034,
          0.6852839884240145,
          0.6859171403147322,
          0.6862970474823836,
          0.6871836044283757,
          0.687563511596027,
          0.6890833005988408,
          0.6897166128217667,
          0.6911097393799954,
          0.6921230389366768,
          0.6918697140475064,
          0.6928827731058753,
          0.6940226549410379,
          0.6942758996641041,
          0.6947825494424448,
          0.6957956886669179,
          0.6966820852807016
         ]
        },
        {
         "line": {
          "color": "darksalmon",
          "width": 2
         },
         "marker": {
          "size": 5,
          "symbol": "x"
         },
         "mode": "lines+markers",
         "name": "Mean Test Score of Openness",
         "type": "scatter",
         "x": [
          1,
          1.0156280663718715,
          1.0315003692022668,
          1.04762072543477,
          1.063993011664413,
          1.080621165069912,
          1.0975091843604738,
          1.114661130737398,
          1.1320811288707076,
          1.1497733678910422,
          1.1677421023970538,
          1.185991653478544,
          1.2045264097555923,
          1.223350828433925,
          1.2424694363767743,
          1.2618868311934928,
          1.2816076823451754,
          1.3016367322675664,
          1.32197879751151,
          1.342638769901227,
          1.3636216177106917,
          1.384932386858393,
          1.4065762021207706,
          1.428558268364609,
          1.4508838717986972,
          1.4735583812450452,
          1.4965872494299706,
          1.5199760142953591,
          1.54373030033042,
          1.567855819924253,
          1.5923583747395544,
          1.6172438571077898,
          1.642518251446172,
          1.6681876356967833,
          1.6942581827881882,
          1.720736162119889,
          1.7476279410699778,
          1.7749399865263569,
          1.80267886644188,
          1.830851251413804,
          1.859463916287923,
          1.8885237417877707,
          1.9180377161692852,
          1.9480129369013324,
          1.9784566123724907,
          2.0093760636245164,
          2.0407787261128902,
          2.0726721514948863,
          2.105064009445578,
          2.137962089502232
         ],
         "y": [
          0.6048563901561396,
          0.6053627192700637,
          0.6053627192700637,
          0.6043487759429416,
          0.6053601490715158,
          0.6043474908436677,
          0.6048538199575917,
          0.6043474908436677,
          0.6053601490715158,
          0.6043474908436677,
          0.6053601490715158,
          0.6048525348583178,
          0.6038385915311958,
          0.6028246482040738,
          0.6033322624172717,
          0.6023196041894237,
          0.6023196041894237,
          0.6018132750754995,
          0.6018132750754995,
          0.6023183190901497,
          0.6023183190901497,
          0.6033309773179978,
          0.6033309773179978,
          0.6048499646597699,
          0.6048499646597699,
          0.604342350446572,
          0.6063689520015421,
          0.6063702371008161,
          0.605862622887618,
          0.6063689520015421,
          0.605862622887618,
          0.6063689520015421,
          0.605862622887618,
          0.605356293773694,
          0.605356293773694,
          0.6063702371008161,
          0.6058639079868919,
          0.607891794641136,
          0.607384180427938,
          0.607891794641136,
          0.6094146372807299,
          0.6109374799203238,
          0.6104311508063998,
          0.6109374799203238,
          0.6109374799203238,
          0.6104298657071258,
          0.6109374799203238,
          0.6104311508063998,
          0.6119514232474458,
          0.6109387650195977
         ]
        },
        {
         "line": {
          "color": "lightsteelblue",
          "width": 2
         },
         "marker": {
          "size": 5,
          "symbol": "circle"
         },
         "mode": "lines+markers",
         "name": "Mean Train Score of Conscientiousness",
         "type": "scatter",
         "x": [
          1,
          1.0156280663718715,
          1.0315003692022668,
          1.04762072543477,
          1.063993011664413,
          1.080621165069912,
          1.0975091843604738,
          1.114661130737398,
          1.1320811288707076,
          1.1497733678910422,
          1.1677421023970538,
          1.185991653478544,
          1.2045264097555923,
          1.223350828433925,
          1.2424694363767743,
          1.2618868311934928,
          1.2816076823451754,
          1.3016367322675664,
          1.32197879751151,
          1.342638769901227,
          1.3636216177106917,
          1.384932386858393,
          1.4065762021207706,
          1.428558268364609,
          1.4508838717986972,
          1.4735583812450452,
          1.4965872494299706,
          1.5199760142953591,
          1.54373030033042,
          1.567855819924253,
          1.5923583747395544,
          1.6172438571077898,
          1.642518251446172,
          1.6681876356967833,
          1.6942581827881882,
          1.720736162119889,
          1.7476279410699778,
          1.7749399865263569,
          1.80267886644188,
          1.830851251413804,
          1.859463916287923,
          1.8885237417877707,
          1.9180377161692852,
          1.9480129369013324,
          1.9784566123724907,
          2.0093760636245164,
          2.0407787261128902,
          2.0726721514948863,
          2.105064009445578,
          2.137962089502232
         ],
         "y": [
          0.6266463311982428,
          0.6268994155891006,
          0.627152740478271,
          0.6276593100905075,
          0.6286726898132932,
          0.6294325843147,
          0.6306990484283436,
          0.63234525937743,
          0.6325985041004962,
          0.6334851412125925,
          0.6341184534355184,
          0.6348785082691336,
          0.6353849977152659,
          0.6366515419950136,
          0.6374112761642122,
          0.6384245757208937,
          0.6394377951114709,
          0.641210828837351,
          0.6423506305064093,
          0.6432371874524013,
          0.6441235840661851,
          0.6446302338445259,
          0.6462766051258206,
          0.6471633224040211,
          0.6476699721823618,
          0.6493164236297609,
          0.6502028202435446,
          0.6508360523003663,
          0.6519756936372163,
          0.6527358286369357,
          0.6536223855829277,
          0.6542554573075412,
          0.6555221619194972,
          0.656155393976319,
          0.6565353813100745,
          0.6570417905901027,
          0.6575484403684434,
          0.6579283475360949,
          0.6588149044820868,
          0.6594482167050127,
          0.6605880183740711,
          0.6616011575985442,
          0.6631210267674622,
          0.6641341659919353,
          0.664767398048757,
          0.6659071195517111,
          0.6661605246069857,
          0.667553490833006,
          0.6688200351127536,
          0.6689465372251304
         ]
        },
        {
         "line": {
          "color": "lightsteelblue",
          "width": 2
         },
         "marker": {
          "size": 5,
          "symbol": "x"
         },
         "mode": "lines+markers",
         "name": "Mean Test Score of Conscientiousness",
         "type": "scatter",
         "x": [
          1,
          1.0156280663718715,
          1.0315003692022668,
          1.04762072543477,
          1.063993011664413,
          1.080621165069912,
          1.0975091843604738,
          1.114661130737398,
          1.1320811288707076,
          1.1497733678910422,
          1.1677421023970538,
          1.185991653478544,
          1.2045264097555923,
          1.223350828433925,
          1.2424694363767743,
          1.2618868311934928,
          1.2816076823451754,
          1.3016367322675664,
          1.32197879751151,
          1.342638769901227,
          1.3636216177106917,
          1.384932386858393,
          1.4065762021207706,
          1.428558268364609,
          1.4508838717986972,
          1.4735583812450452,
          1.4965872494299706,
          1.5199760142953591,
          1.54373030033042,
          1.567855819924253,
          1.5923583747395544,
          1.6172438571077898,
          1.642518251446172,
          1.6681876356967833,
          1.6942581827881882,
          1.720736162119889,
          1.7476279410699778,
          1.7749399865263569,
          1.80267886644188,
          1.830851251413804,
          1.859463916287923,
          1.8885237417877707,
          1.9180377161692852,
          1.9480129369013324,
          1.9784566123724907,
          2.0093760636245164,
          2.0407787261128902,
          2.0726721514948863,
          2.105064009445578,
          2.137962089502232
         ],
         "y": [
          0.5582471245903746,
          0.5582471245903746,
          0.5567268521493285,
          0.5567268521493285,
          0.5562205230354045,
          0.5567268521493285,
          0.5577395103771765,
          0.5587521686050246,
          0.5582471245903745,
          0.5572344663625264,
          0.5562218081346784,
          0.5557154790207544,
          0.5541952065797082,
          0.5536888774657843,
          0.5531812632525863,
          0.5526736490393882,
          0.5531786930540384,
          0.5546976803958106,
          0.5541900661826127,
          0.5552027244104606,
          0.5557090535243846,
          0.5531774079547643,
          0.5521660348261903,
          0.5501420034697679,
          0.548621731028722,
          0.5465964145730258,
          0.5481179721133458,
          0.5481192572126197,
          0.5491319154404678,
          0.5501458587675898,
          0.551666131208636,
          0.55217246032256,
          0.5511585169954379,
          0.5521711752232861,
          0.5536914476643321,
          0.5531851185504081,
          0.55217246032256,
          0.5536927327636061,
          0.5557180492193021,
          0.554705390991454,
          0.5536927327636059,
          0.5516674163079098,
          0.5511610871939858,
          0.5491344856390157,
          0.5496395296536658,
          0.5501471438668638,
          0.5516674163079098,
          0.5501484289661377,
          0.5521750305211077,
          0.5501497140654115
         ]
        },
        {
         "line": {
          "color": "darkseagreen",
          "width": 2
         },
         "marker": {
          "size": 5,
          "symbol": "circle"
         },
         "mode": "lines+markers",
         "name": "Mean Train Score of Extraversion",
         "type": "scatter",
         "x": [
          1,
          1.0156280663718715,
          1.0315003692022668,
          1.04762072543477,
          1.063993011664413,
          1.080621165069912,
          1.0975091843604738,
          1.114661130737398,
          1.1320811288707076,
          1.1497733678910422,
          1.1677421023970538,
          1.185991653478544,
          1.2045264097555923,
          1.223350828433925,
          1.2424694363767743,
          1.2618868311934928,
          1.2816076823451754,
          1.3016367322675664,
          1.32197879751151,
          1.342638769901227,
          1.3636216177106917,
          1.384932386858393,
          1.4065762021207706,
          1.428558268364609,
          1.4508838717986972,
          1.4735583812450452,
          1.4965872494299706,
          1.5199760142953591,
          1.54373030033042,
          1.567855819924253,
          1.5923583747395544,
          1.6172438571077898,
          1.642518251446172,
          1.6681876356967833,
          1.6942581827881882,
          1.720736162119889,
          1.7476279410699778,
          1.7749399865263569,
          1.80267886644188,
          1.830851251413804,
          1.859463916287923,
          1.8885237417877707,
          1.9180377161692852,
          1.9480129369013324,
          1.9784566123724907,
          2.0093760636245164,
          2.0407787261128902,
          2.0726721514948863,
          2.105064009445578,
          2.137962089502232
         ],
         "y": [
          0.6298133733094973,
          0.6308265125339704,
          0.6325993859276421,
          0.6351319934905122,
          0.6365251200487411,
          0.6371582719394585,
          0.6379179259425529,
          0.6381713309978274,
          0.6399443647237075,
          0.6404508541698399,
          0.6407041790590102,
          0.6417175587817959,
          0.6431108456722329,
          0.6445038920643573,
          0.6451370439550749,
          0.6461502633456522,
          0.6476702126806744,
          0.648936756960422,
          0.6496967316279331,
          0.65045662612934,
          0.6512166809629553,
          0.6524832252427029,
          0.6537498496885547,
          0.6541298370223102,
          0.655396461468162,
          0.6565365036355328,
          0.6578029677491763,
          0.6586895246951683,
          0.6604625584210484,
          0.6612222124241429,
          0.6622351913164076,
          0.6646414570991095,
          0.6667945583248491,
          0.6681876848830777,
          0.668440929606144,
          0.6692010646058633,
          0.6702141236642323,
          0.6721139801669058,
          0.6724939675006614,
          0.6733806046127576,
          0.674646988560297,
          0.675280380949327,
          0.6765465243985538,
          0.6774328408462333,
          0.6784460602368106,
          0.6800925918503139,
          0.6811058112408912,
          0.6816124610192318,
          0.6827522626882903,
          0.6837653217466592
         ]
        },
        {
         "line": {
          "color": "darkseagreen",
          "width": 2
         },
         "marker": {
          "size": 5,
          "symbol": "x"
         },
         "mode": "lines+markers",
         "name": "Mean Test Score of Extraversion",
         "type": "scatter",
         "x": [
          1,
          1.0156280663718715,
          1.0315003692022668,
          1.04762072543477,
          1.063993011664413,
          1.080621165069912,
          1.0975091843604738,
          1.114661130737398,
          1.1320811288707076,
          1.1497733678910422,
          1.1677421023970538,
          1.185991653478544,
          1.2045264097555923,
          1.223350828433925,
          1.2424694363767743,
          1.2618868311934928,
          1.2816076823451754,
          1.3016367322675664,
          1.32197879751151,
          1.342638769901227,
          1.3636216177106917,
          1.384932386858393,
          1.4065762021207706,
          1.428558268364609,
          1.4508838717986972,
          1.4735583812450452,
          1.4965872494299706,
          1.5199760142953591,
          1.54373030033042,
          1.567855819924253,
          1.5923583747395544,
          1.6172438571077898,
          1.642518251446172,
          1.6681876356967833,
          1.6942581827881882,
          1.720736162119889,
          1.7476279410699778,
          1.7749399865263569,
          1.80267886644188,
          1.830851251413804,
          1.859463916287923,
          1.8885237417877707,
          1.9180377161692852,
          1.9480129369013324,
          1.9784566123724907,
          2.0093760636245164,
          2.0407787261128902,
          2.0726721514948863,
          2.105064009445578,
          2.137962089502232
         ],
         "y": [
          0.5445890895071643,
          0.5440827603932403,
          0.5445903746064383,
          0.5435777163785902,
          0.5456017477350125,
          0.5471207350767846,
          0.5466131208635867,
          0.5461055066503888,
          0.5440801901946926,
          0.5445852342093427,
          0.5450915633232667,
          0.5445865193086166,
          0.5435738610807686,
          0.5450928484225407,
          0.5466118357643128,
          0.5461042215511148,
          0.5461042215511148,
          0.5466105506650389,
          0.5481295380068111,
          0.5496459551500353,
          0.5496459551500353,
          0.5511649424918075,
          0.5506586133778835,
          0.5496459551500353,
          0.5486332969221872,
          0.5486332969221872,
          0.5491383409368373,
          0.5481256827089893,
          0.5471117393818673,
          0.5501497140654117,
          0.5501509991646855,
          0.5516699865064576,
          0.5501509991646855,
          0.5501509991646854,
          0.5506573282786095,
          0.5511649424918075,
          0.5511649424918075,
          0.5526839298335796,
          0.5531902589475036,
          0.5536965880614277,
          0.5531915440467776,
          0.5526865000321275,
          0.5516738418042795,
          0.5511675126903554,
          0.5516725567050055,
          0.5511662275910815,
          0.5511662275910815,
          0.5511662275910815,
          0.5506598984771574,
          0.5506598984771574
         ]
        },
        {
         "line": {
          "color": "navajowhite",
          "width": 2
         },
         "marker": {
          "size": 5,
          "symbol": "circle"
         },
         "mode": "lines+markers",
         "name": "Mean Train Score of Agreeableness",
         "type": "scatter",
         "x": [
          1,
          1.0156280663718715,
          1.0315003692022668,
          1.04762072543477,
          1.063993011664413,
          1.080621165069912,
          1.0975091843604738,
          1.114661130737398,
          1.1320811288707076,
          1.1497733678910422,
          1.1677421023970538,
          1.185991653478544,
          1.2045264097555923,
          1.223350828433925,
          1.2424694363767743,
          1.2618868311934928,
          1.2816076823451754,
          1.3016367322675664,
          1.32197879751151,
          1.342638769901227,
          1.3636216177106917,
          1.384932386858393,
          1.4065762021207706,
          1.428558268364609,
          1.4508838717986972,
          1.4735583812450452,
          1.4965872494299706,
          1.5199760142953591,
          1.54373030033042,
          1.567855819924253,
          1.5923583747395544,
          1.6172438571077898,
          1.642518251446172,
          1.6681876356967833,
          1.6942581827881882,
          1.720736162119889,
          1.7476279410699778,
          1.7749399865263569,
          1.80267886644188,
          1.830851251413804,
          1.859463916287923,
          1.8885237417877707,
          1.9180377161692852,
          1.9480129369013324,
          1.9784566123724907,
          2.0093760636245164,
          2.0407787261128902,
          2.0726721514948863,
          2.105064009445578,
          2.137962089502232
         ],
         "y": [
          0.619046103526507,
          0.6218322764768601,
          0.6219589389214452,
          0.6247455127023193,
          0.626645048540576,
          0.6280380949327006,
          0.6287979092680033,
          0.6306976856045727,
          0.6309506898293263,
          0.6328506264981041,
          0.6334840188871341,
          0.6337371032779919,
          0.6351302298362207,
          0.6346239007222966,
          0.6356369597806656,
          0.6361436095590063,
          0.6374098331743372,
          0.6391831073985298,
          0.6399429217338325,
          0.6409562212905139,
          0.6413360482920611,
          0.6423492676826384,
          0.6438690566854522,
          0.6456420904113322,
          0.6467819722464948,
          0.6483018414154127,
          0.6491883181953007,
          0.6502012970875655,
          0.6509612717550766,
          0.650961432087285,
          0.6524815417545153,
          0.6529881915328561,
          0.6534947611450926,
          0.6542545754803955,
          0.6545077400373575,
          0.655140891928075,
          0.6559007864294819,
          0.6562807737632375,
          0.6575473982090891,
          0.658180630265911,
          0.6585606175996664,
          0.6595736766580355,
          0.6600802462702721,
          0.6613467905500197,
          0.6622331871638034,
          0.6637529761666172,
          0.6645128706680241,
          0.6659058368940445,
          0.6671721406754797,
          0.6675522081753393
         ]
        },
        {
         "line": {
          "color": "navajowhite",
          "width": 2
         },
         "marker": {
          "size": 5,
          "symbol": "x"
         },
         "mode": "lines+markers",
         "name": "Mean Test Score of Agreeableness",
         "type": "scatter",
         "x": [
          1,
          1.0156280663718715,
          1.0315003692022668,
          1.04762072543477,
          1.063993011664413,
          1.080621165069912,
          1.0975091843604738,
          1.114661130737398,
          1.1320811288707076,
          1.1497733678910422,
          1.1677421023970538,
          1.185991653478544,
          1.2045264097555923,
          1.223350828433925,
          1.2424694363767743,
          1.2618868311934928,
          1.2816076823451754,
          1.3016367322675664,
          1.32197879751151,
          1.342638769901227,
          1.3636216177106917,
          1.384932386858393,
          1.4065762021207706,
          1.428558268364609,
          1.4508838717986972,
          1.4735583812450452,
          1.4965872494299706,
          1.5199760142953591,
          1.54373030033042,
          1.567855819924253,
          1.5923583747395544,
          1.6172438571077898,
          1.642518251446172,
          1.6681876356967833,
          1.6942581827881882,
          1.720736162119889,
          1.7476279410699778,
          1.7749399865263569,
          1.80267886644188,
          1.830851251413804,
          1.859463916287923,
          1.8885237417877707,
          1.9180377161692852,
          1.9480129369013324,
          1.9784566123724907,
          2.0093760636245164,
          2.0407787261128902,
          2.0726721514948863,
          2.105064009445578,
          2.137962089502232
         ],
         "y": [
          0.5405256056030329,
          0.5400192764891087,
          0.5405268907023068,
          0.542550922058729,
          0.540523035404485,
          0.5405243205037589,
          0.5405256056030329,
          0.5405243205037589,
          0.541536978731607,
          0.5430572511726531,
          0.5450825676283493,
          0.5450825676283493,
          0.5445762385144253,
          0.5430572511726531,
          0.5430559660733791,
          0.5405243205037589,
          0.5415356936323331,
          0.5415331234337852,
          0.5430521107755574,
          0.5435571547902075,
          0.5440634839041316,
          0.5440647690034055,
          0.5440634839041316,
          0.5455850414444516,
          0.5465976996722997,
          0.5465976996722997,
          0.5460926556576495,
          0.5465976996722997,
          0.5465976996722997,
          0.5471027436869498,
          0.5465951294737519,
          0.548114116815524,
          0.5476077877015999,
          0.546593844374478,
          0.546593844374478,
          0.545579901047356,
          0.5465925592752041,
          0.5460849450620061,
          0.544058343507036,
          0.544058343507036,
          0.545072286834158,
          0.5440596286063099,
          0.5460849450620061,
          0.5470976032898542,
          0.5435520143931118,
          0.544565957720234,
          0.5440596286063099,
          0.5445685279187817,
          0.5460888003598278,
          0.5465951294737519
         ]
        },
        {
         "line": {
          "color": "indianred",
          "width": 2
         },
         "marker": {
          "size": 5,
          "symbol": "circle"
         },
         "mode": "lines+markers",
         "name": "Mean Train Score of Neuroticism",
         "type": "scatter",
         "x": [
          1,
          1.0156280663718715,
          1.0315003692022668,
          1.04762072543477,
          1.063993011664413,
          1.080621165069912,
          1.0975091843604738,
          1.114661130737398,
          1.1320811288707076,
          1.1497733678910422,
          1.1677421023970538,
          1.185991653478544,
          1.2045264097555923,
          1.223350828433925,
          1.2424694363767743,
          1.2618868311934928,
          1.2816076823451754,
          1.3016367322675664,
          1.32197879751151,
          1.342638769901227,
          1.3636216177106917,
          1.384932386858393,
          1.4065762021207706,
          1.428558268364609,
          1.4508838717986972,
          1.4735583812450452,
          1.4965872494299706,
          1.5199760142953591,
          1.54373030033042,
          1.567855819924253,
          1.5923583747395544,
          1.6172438571077898,
          1.642518251446172,
          1.6681876356967833,
          1.6942581827881882,
          1.720736162119889,
          1.7476279410699778,
          1.7749399865263569,
          1.80267886644188,
          1.830851251413804,
          1.859463916287923,
          1.8885237417877707,
          1.9180377161692852,
          1.9480129369013324,
          1.9784566123724907,
          2.0093760636245164,
          2.0407787261128902,
          2.0726721514948863,
          2.105064009445578,
          2.137962089502232
         ],
         "y": [
          0.6594489381999502,
          0.660588900201217,
          0.661728621704171,
          0.6619817862611331,
          0.6628681027088127,
          0.6632481702086724,
          0.6650208832701358,
          0.6652742081593062,
          0.6664140899944686,
          0.6669207397728093,
          0.666920579440601,
          0.6676804739420079,
          0.669326925389407,
          0.6703399844477758,
          0.6699602376123327,
          0.6703403852782966,
          0.670213482335399,
          0.6707200519476355,
          0.6718597734505897,
          0.6718597734505896,
          0.6726197481181007,
          0.6723665033950346,
          0.6733797227856118,
          0.6733797227856118,
          0.6732531405071307,
          0.6737597902854715,
          0.6743931826745015,
          0.6746464273975677,
          0.6746464273975677,
          0.6754061615667664,
          0.676672705846514,
          0.6775593429586102,
          0.6788258070722537,
          0.6797122036860375,
          0.680345355576755,
          0.6808520053550957,
          0.6816118196903985,
          0.6818651445795688,
          0.6833849335823827,
          0.6832581108055892,
          0.6841444272532688,
          0.6841444272532687,
          0.6847774989778821,
          0.685410731034704,
          0.6859173808130447,
          0.6878171571496141,
          0.6888300558757746,
          0.6903498448785885,
          0.691489726713751,
          0.692883093770292
         ]
        },
        {
         "line": {
          "color": "indianred",
          "width": 2
         },
         "marker": {
          "size": 5,
          "symbol": "x"
         },
         "mode": "lines+markers",
         "name": "Mean Test Score of Neuroticism",
         "type": "scatter",
         "x": [
          1,
          1.0156280663718715,
          1.0315003692022668,
          1.04762072543477,
          1.063993011664413,
          1.080621165069912,
          1.0975091843604738,
          1.114661130737398,
          1.1320811288707076,
          1.1497733678910422,
          1.1677421023970538,
          1.185991653478544,
          1.2045264097555923,
          1.223350828433925,
          1.2424694363767743,
          1.2618868311934928,
          1.2816076823451754,
          1.3016367322675664,
          1.32197879751151,
          1.342638769901227,
          1.3636216177106917,
          1.384932386858393,
          1.4065762021207706,
          1.428558268364609,
          1.4508838717986972,
          1.4735583812450452,
          1.4965872494299706,
          1.5199760142953591,
          1.54373030033042,
          1.567855819924253,
          1.5923583747395544,
          1.6172438571077898,
          1.642518251446172,
          1.6681876356967833,
          1.6942581827881882,
          1.720736162119889,
          1.7476279410699778,
          1.7749399865263569,
          1.80267886644188,
          1.830851251413804,
          1.859463916287923,
          1.8885237417877707,
          1.9180377161692852,
          1.9480129369013324,
          1.9784566123724907,
          2.0093760636245164,
          2.0407787261128902,
          2.0726721514948863,
          2.105064009445578,
          2.137962089502232
         ],
         "y": [
          0.5856300199190387,
          0.5851249759043886,
          0.5866439632461607,
          0.5846173616911906,
          0.5851249759043886,
          0.5866452483454346,
          0.5871515774593588,
          0.5856325901175865,
          0.5851262610036625,
          0.5846199318897385,
          0.5841136027758144,
          0.5851275461029364,
          0.5851275461029364,
          0.5866452483454346,
          0.5856325901175865,
          0.5861389192315106,
          0.5846199318897385,
          0.5841123176765405,
          0.5851275461029364,
          0.5810756280922701,
          0.5810756280922701,
          0.5810743429929961,
          0.5810743429929961,
          0.5805667287797982,
          0.5790464563387522,
          0.5790464563387522,
          0.5790464563387522,
          0.5785401272248281,
          0.57752746899698,
          0.57752746899698,
          0.5785388421255542,
          0.577018569684508,
          0.5770172845852342,
          0.5795515003534023,
          0.5795515003534023,
          0.5780312279123563,
          0.5770159994859603,
          0.5775223285998843,
          0.5775223285998844,
          0.5770159994859603,
          0.5790438861402044,
          0.5790426010409304,
          0.5790413159416564,
          0.5785349868277324,
          0.5785349868277324,
          0.5805628734819764,
          0.5785375570262803,
          0.5795515003534023,
          0.5810717727944483,
          0.5805641585812504
         ]
        }
       ],
       "layout": {
        "paper_bgcolor": "black",
        "template": {
         "data": {
          "bar": [
           {
            "error_x": {
             "color": "#f2f5fa"
            },
            "error_y": {
             "color": "#f2f5fa"
            },
            "marker": {
             "line": {
              "color": "rgb(17,17,17)",
              "width": 0.5
             },
             "pattern": {
              "fillmode": "overlay",
              "size": 10,
              "solidity": 0.2
             }
            },
            "type": "bar"
           }
          ],
          "barpolar": [
           {
            "marker": {
             "line": {
              "color": "rgb(17,17,17)",
              "width": 0.5
             },
             "pattern": {
              "fillmode": "overlay",
              "size": 10,
              "solidity": 0.2
             }
            },
            "type": "barpolar"
           }
          ],
          "carpet": [
           {
            "aaxis": {
             "endlinecolor": "#A2B1C6",
             "gridcolor": "#506784",
             "linecolor": "#506784",
             "minorgridcolor": "#506784",
             "startlinecolor": "#A2B1C6"
            },
            "baxis": {
             "endlinecolor": "#A2B1C6",
             "gridcolor": "#506784",
             "linecolor": "#506784",
             "minorgridcolor": "#506784",
             "startlinecolor": "#A2B1C6"
            },
            "type": "carpet"
           }
          ],
          "choropleth": [
           {
            "colorbar": {
             "outlinewidth": 0,
             "ticks": ""
            },
            "type": "choropleth"
           }
          ],
          "contour": [
           {
            "colorbar": {
             "outlinewidth": 0,
             "ticks": ""
            },
            "colorscale": [
             [
              0,
              "#0d0887"
             ],
             [
              0.1111111111111111,
              "#46039f"
             ],
             [
              0.2222222222222222,
              "#7201a8"
             ],
             [
              0.3333333333333333,
              "#9c179e"
             ],
             [
              0.4444444444444444,
              "#bd3786"
             ],
             [
              0.5555555555555556,
              "#d8576b"
             ],
             [
              0.6666666666666666,
              "#ed7953"
             ],
             [
              0.7777777777777778,
              "#fb9f3a"
             ],
             [
              0.8888888888888888,
              "#fdca26"
             ],
             [
              1,
              "#f0f921"
             ]
            ],
            "type": "contour"
           }
          ],
          "contourcarpet": [
           {
            "colorbar": {
             "outlinewidth": 0,
             "ticks": ""
            },
            "type": "contourcarpet"
           }
          ],
          "heatmap": [
           {
            "colorbar": {
             "outlinewidth": 0,
             "ticks": ""
            },
            "colorscale": [
             [
              0,
              "#0d0887"
             ],
             [
              0.1111111111111111,
              "#46039f"
             ],
             [
              0.2222222222222222,
              "#7201a8"
             ],
             [
              0.3333333333333333,
              "#9c179e"
             ],
             [
              0.4444444444444444,
              "#bd3786"
             ],
             [
              0.5555555555555556,
              "#d8576b"
             ],
             [
              0.6666666666666666,
              "#ed7953"
             ],
             [
              0.7777777777777778,
              "#fb9f3a"
             ],
             [
              0.8888888888888888,
              "#fdca26"
             ],
             [
              1,
              "#f0f921"
             ]
            ],
            "type": "heatmap"
           }
          ],
          "heatmapgl": [
           {
            "colorbar": {
             "outlinewidth": 0,
             "ticks": ""
            },
            "colorscale": [
             [
              0,
              "#0d0887"
             ],
             [
              0.1111111111111111,
              "#46039f"
             ],
             [
              0.2222222222222222,
              "#7201a8"
             ],
             [
              0.3333333333333333,
              "#9c179e"
             ],
             [
              0.4444444444444444,
              "#bd3786"
             ],
             [
              0.5555555555555556,
              "#d8576b"
             ],
             [
              0.6666666666666666,
              "#ed7953"
             ],
             [
              0.7777777777777778,
              "#fb9f3a"
             ],
             [
              0.8888888888888888,
              "#fdca26"
             ],
             [
              1,
              "#f0f921"
             ]
            ],
            "type": "heatmapgl"
           }
          ],
          "histogram": [
           {
            "marker": {
             "pattern": {
              "fillmode": "overlay",
              "size": 10,
              "solidity": 0.2
             }
            },
            "type": "histogram"
           }
          ],
          "histogram2d": [
           {
            "colorbar": {
             "outlinewidth": 0,
             "ticks": ""
            },
            "colorscale": [
             [
              0,
              "#0d0887"
             ],
             [
              0.1111111111111111,
              "#46039f"
             ],
             [
              0.2222222222222222,
              "#7201a8"
             ],
             [
              0.3333333333333333,
              "#9c179e"
             ],
             [
              0.4444444444444444,
              "#bd3786"
             ],
             [
              0.5555555555555556,
              "#d8576b"
             ],
             [
              0.6666666666666666,
              "#ed7953"
             ],
             [
              0.7777777777777778,
              "#fb9f3a"
             ],
             [
              0.8888888888888888,
              "#fdca26"
             ],
             [
              1,
              "#f0f921"
             ]
            ],
            "type": "histogram2d"
           }
          ],
          "histogram2dcontour": [
           {
            "colorbar": {
             "outlinewidth": 0,
             "ticks": ""
            },
            "colorscale": [
             [
              0,
              "#0d0887"
             ],
             [
              0.1111111111111111,
              "#46039f"
             ],
             [
              0.2222222222222222,
              "#7201a8"
             ],
             [
              0.3333333333333333,
              "#9c179e"
             ],
             [
              0.4444444444444444,
              "#bd3786"
             ],
             [
              0.5555555555555556,
              "#d8576b"
             ],
             [
              0.6666666666666666,
              "#ed7953"
             ],
             [
              0.7777777777777778,
              "#fb9f3a"
             ],
             [
              0.8888888888888888,
              "#fdca26"
             ],
             [
              1,
              "#f0f921"
             ]
            ],
            "type": "histogram2dcontour"
           }
          ],
          "mesh3d": [
           {
            "colorbar": {
             "outlinewidth": 0,
             "ticks": ""
            },
            "type": "mesh3d"
           }
          ],
          "parcoords": [
           {
            "line": {
             "colorbar": {
              "outlinewidth": 0,
              "ticks": ""
             }
            },
            "type": "parcoords"
           }
          ],
          "pie": [
           {
            "automargin": true,
            "type": "pie"
           }
          ],
          "scatter": [
           {
            "marker": {
             "line": {
              "color": "#283442"
             }
            },
            "type": "scatter"
           }
          ],
          "scatter3d": [
           {
            "line": {
             "colorbar": {
              "outlinewidth": 0,
              "ticks": ""
             }
            },
            "marker": {
             "colorbar": {
              "outlinewidth": 0,
              "ticks": ""
             }
            },
            "type": "scatter3d"
           }
          ],
          "scattercarpet": [
           {
            "marker": {
             "colorbar": {
              "outlinewidth": 0,
              "ticks": ""
             }
            },
            "type": "scattercarpet"
           }
          ],
          "scattergeo": [
           {
            "marker": {
             "colorbar": {
              "outlinewidth": 0,
              "ticks": ""
             }
            },
            "type": "scattergeo"
           }
          ],
          "scattergl": [
           {
            "marker": {
             "line": {
              "color": "#283442"
             }
            },
            "type": "scattergl"
           }
          ],
          "scattermapbox": [
           {
            "marker": {
             "colorbar": {
              "outlinewidth": 0,
              "ticks": ""
             }
            },
            "type": "scattermapbox"
           }
          ],
          "scatterpolar": [
           {
            "marker": {
             "colorbar": {
              "outlinewidth": 0,
              "ticks": ""
             }
            },
            "type": "scatterpolar"
           }
          ],
          "scatterpolargl": [
           {
            "marker": {
             "colorbar": {
              "outlinewidth": 0,
              "ticks": ""
             }
            },
            "type": "scatterpolargl"
           }
          ],
          "scatterternary": [
           {
            "marker": {
             "colorbar": {
              "outlinewidth": 0,
              "ticks": ""
             }
            },
            "type": "scatterternary"
           }
          ],
          "surface": [
           {
            "colorbar": {
             "outlinewidth": 0,
             "ticks": ""
            },
            "colorscale": [
             [
              0,
              "#0d0887"
             ],
             [
              0.1111111111111111,
              "#46039f"
             ],
             [
              0.2222222222222222,
              "#7201a8"
             ],
             [
              0.3333333333333333,
              "#9c179e"
             ],
             [
              0.4444444444444444,
              "#bd3786"
             ],
             [
              0.5555555555555556,
              "#d8576b"
             ],
             [
              0.6666666666666666,
              "#ed7953"
             ],
             [
              0.7777777777777778,
              "#fb9f3a"
             ],
             [
              0.8888888888888888,
              "#fdca26"
             ],
             [
              1,
              "#f0f921"
             ]
            ],
            "type": "surface"
           }
          ],
          "table": [
           {
            "cells": {
             "fill": {
              "color": "#506784"
             },
             "line": {
              "color": "rgb(17,17,17)"
             }
            },
            "header": {
             "fill": {
              "color": "#2a3f5f"
             },
             "line": {
              "color": "rgb(17,17,17)"
             }
            },
            "type": "table"
           }
          ]
         },
         "layout": {
          "annotationdefaults": {
           "arrowcolor": "#f2f5fa",
           "arrowhead": 0,
           "arrowwidth": 1
          },
          "autotypenumbers": "strict",
          "coloraxis": {
           "colorbar": {
            "outlinewidth": 0,
            "ticks": ""
           }
          },
          "colorscale": {
           "diverging": [
            [
             0,
             "#8e0152"
            ],
            [
             0.1,
             "#c51b7d"
            ],
            [
             0.2,
             "#de77ae"
            ],
            [
             0.3,
             "#f1b6da"
            ],
            [
             0.4,
             "#fde0ef"
            ],
            [
             0.5,
             "#f7f7f7"
            ],
            [
             0.6,
             "#e6f5d0"
            ],
            [
             0.7,
             "#b8e186"
            ],
            [
             0.8,
             "#7fbc41"
            ],
            [
             0.9,
             "#4d9221"
            ],
            [
             1,
             "#276419"
            ]
           ],
           "sequential": [
            [
             0,
             "#0d0887"
            ],
            [
             0.1111111111111111,
             "#46039f"
            ],
            [
             0.2222222222222222,
             "#7201a8"
            ],
            [
             0.3333333333333333,
             "#9c179e"
            ],
            [
             0.4444444444444444,
             "#bd3786"
            ],
            [
             0.5555555555555556,
             "#d8576b"
            ],
            [
             0.6666666666666666,
             "#ed7953"
            ],
            [
             0.7777777777777778,
             "#fb9f3a"
            ],
            [
             0.8888888888888888,
             "#fdca26"
            ],
            [
             1,
             "#f0f921"
            ]
           ],
           "sequentialminus": [
            [
             0,
             "#0d0887"
            ],
            [
             0.1111111111111111,
             "#46039f"
            ],
            [
             0.2222222222222222,
             "#7201a8"
            ],
            [
             0.3333333333333333,
             "#9c179e"
            ],
            [
             0.4444444444444444,
             "#bd3786"
            ],
            [
             0.5555555555555556,
             "#d8576b"
            ],
            [
             0.6666666666666666,
             "#ed7953"
            ],
            [
             0.7777777777777778,
             "#fb9f3a"
            ],
            [
             0.8888888888888888,
             "#fdca26"
            ],
            [
             1,
             "#f0f921"
            ]
           ]
          },
          "colorway": [
           "#636efa",
           "#EF553B",
           "#00cc96",
           "#ab63fa",
           "#FFA15A",
           "#19d3f3",
           "#FF6692",
           "#B6E880",
           "#FF97FF",
           "#FECB52"
          ],
          "font": {
           "color": "#f2f5fa"
          },
          "geo": {
           "bgcolor": "rgb(17,17,17)",
           "lakecolor": "rgb(17,17,17)",
           "landcolor": "rgb(17,17,17)",
           "showlakes": true,
           "showland": true,
           "subunitcolor": "#506784"
          },
          "hoverlabel": {
           "align": "left"
          },
          "hovermode": "closest",
          "mapbox": {
           "style": "dark"
          },
          "paper_bgcolor": "rgb(17,17,17)",
          "plot_bgcolor": "rgb(17,17,17)",
          "polar": {
           "angularaxis": {
            "gridcolor": "#506784",
            "linecolor": "#506784",
            "ticks": ""
           },
           "bgcolor": "rgb(17,17,17)",
           "radialaxis": {
            "gridcolor": "#506784",
            "linecolor": "#506784",
            "ticks": ""
           }
          },
          "scene": {
           "xaxis": {
            "backgroundcolor": "rgb(17,17,17)",
            "gridcolor": "#506784",
            "gridwidth": 2,
            "linecolor": "#506784",
            "showbackground": true,
            "ticks": "",
            "zerolinecolor": "#C8D4E3"
           },
           "yaxis": {
            "backgroundcolor": "rgb(17,17,17)",
            "gridcolor": "#506784",
            "gridwidth": 2,
            "linecolor": "#506784",
            "showbackground": true,
            "ticks": "",
            "zerolinecolor": "#C8D4E3"
           },
           "zaxis": {
            "backgroundcolor": "rgb(17,17,17)",
            "gridcolor": "#506784",
            "gridwidth": 2,
            "linecolor": "#506784",
            "showbackground": true,
            "ticks": "",
            "zerolinecolor": "#C8D4E3"
           }
          },
          "shapedefaults": {
           "line": {
            "color": "#f2f5fa"
           }
          },
          "sliderdefaults": {
           "bgcolor": "#C8D4E3",
           "bordercolor": "rgb(17,17,17)",
           "borderwidth": 1,
           "tickwidth": 0
          },
          "ternary": {
           "aaxis": {
            "gridcolor": "#506784",
            "linecolor": "#506784",
            "ticks": ""
           },
           "baxis": {
            "gridcolor": "#506784",
            "linecolor": "#506784",
            "ticks": ""
           },
           "bgcolor": "rgb(17,17,17)",
           "caxis": {
            "gridcolor": "#506784",
            "linecolor": "#506784",
            "ticks": ""
           }
          },
          "title": {
           "x": 0.05
          },
          "updatemenudefaults": {
           "bgcolor": "#506784",
           "borderwidth": 0
          },
          "xaxis": {
           "automargin": true,
           "gridcolor": "#283442",
           "linecolor": "#506784",
           "ticks": "",
           "title": {
            "standoff": 15
           },
           "zerolinecolor": "#283442",
           "zerolinewidth": 2
          },
          "yaxis": {
           "automargin": true,
           "gridcolor": "#283442",
           "linecolor": "#506784",
           "ticks": "",
           "title": {
            "standoff": 15
           },
           "zerolinecolor": "#283442",
           "zerolinewidth": 2
          }
         }
        },
        "title": {
         "text": "Performance of Each Personality"
        },
        "xaxis": {
         "title": {
          "text": "C"
         }
        },
        "yaxis": {
         "title": {
          "text": "Accuracy"
         }
        }
       }
      },
      "text/html": [
       "<div>                            <div id=\"c64262a8-245b-4208-93b5-0b050fb35955\" class=\"plotly-graph-div\" style=\"height:525px; width:100%;\"></div>            <script type=\"text/javascript\">                require([\"plotly\"], function(Plotly) {                    window.PLOTLYENV=window.PLOTLYENV || {};                                    if (document.getElementById(\"c64262a8-245b-4208-93b5-0b050fb35955\")) {                    Plotly.newPlot(                        \"c64262a8-245b-4208-93b5-0b050fb35955\",                        [{\"line\":{\"color\":\"darksalmon\",\"width\":2},\"marker\":{\"size\":5,\"symbol\":\"circle\"},\"mode\":\"lines+markers\",\"name\":\"Mean Train Score of Openness\",\"x\":[1.0,1.0156280663718715,1.0315003692022668,1.04762072543477,1.063993011664413,1.080621165069912,1.0975091843604738,1.114661130737398,1.1320811288707076,1.1497733678910422,1.1677421023970538,1.185991653478544,1.2045264097555923,1.223350828433925,1.2424694363767743,1.2618868311934928,1.2816076823451754,1.3016367322675664,1.32197879751151,1.342638769901227,1.3636216177106917,1.384932386858393,1.4065762021207706,1.428558268364609,1.4508838717986972,1.4735583812450452,1.4965872494299706,1.5199760142953591,1.54373030033042,1.567855819924253,1.5923583747395544,1.6172438571077898,1.642518251446172,1.6681876356967833,1.6942581827881882,1.720736162119889,1.7476279410699778,1.7749399865263569,1.80267886644188,1.830851251413804,1.859463916287923,1.8885237417877707,1.9180377161692852,1.9480129369013324,1.9784566123724907,2.0093760636245164,2.0407787261128902,2.0726721514948863,2.105064009445578,2.137962089502232],\"y\":[0.662106925549739,0.6628668200511459,0.6634999719418635,0.6640065415541001,0.6652730056677435,0.6651462630570542,0.6659061575584612,0.6669192967829343,0.6672992039505856,0.668312503507267,0.6693256427317402,0.6702118790133157,0.6713519211806864,0.6718585709590271,0.6729983726280854,0.6733783599618409,0.6733784401279451,0.674771646852278,0.6751515540199293,0.6760381911320257,0.6765448409103663,0.6764181784657811,0.6773048155778774,0.6783181151345588,0.6792046720805509,0.6800913091926473,0.6813578534723949,0.6817378408061503,0.6822444104183869,0.6821177479738016,0.6835108745320304,0.683890861865786,0.6845240939226077,0.6845240137565034,0.6852839884240145,0.6859171403147322,0.6862970474823836,0.6871836044283757,0.687563511596027,0.6890833005988408,0.6897166128217667,0.6911097393799954,0.6921230389366768,0.6918697140475064,0.6928827731058753,0.6940226549410379,0.6942758996641041,0.6947825494424448,0.6957956886669179,0.6966820852807016],\"type\":\"scatter\"},{\"line\":{\"color\":\"darksalmon\",\"width\":2},\"marker\":{\"size\":5,\"symbol\":\"x\"},\"mode\":\"lines+markers\",\"name\":\"Mean Test Score of Openness\",\"x\":[1.0,1.0156280663718715,1.0315003692022668,1.04762072543477,1.063993011664413,1.080621165069912,1.0975091843604738,1.114661130737398,1.1320811288707076,1.1497733678910422,1.1677421023970538,1.185991653478544,1.2045264097555923,1.223350828433925,1.2424694363767743,1.2618868311934928,1.2816076823451754,1.3016367322675664,1.32197879751151,1.342638769901227,1.3636216177106917,1.384932386858393,1.4065762021207706,1.428558268364609,1.4508838717986972,1.4735583812450452,1.4965872494299706,1.5199760142953591,1.54373030033042,1.567855819924253,1.5923583747395544,1.6172438571077898,1.642518251446172,1.6681876356967833,1.6942581827881882,1.720736162119889,1.7476279410699778,1.7749399865263569,1.80267886644188,1.830851251413804,1.859463916287923,1.8885237417877707,1.9180377161692852,1.9480129369013324,1.9784566123724907,2.0093760636245164,2.0407787261128902,2.0726721514948863,2.105064009445578,2.137962089502232],\"y\":[0.6048563901561396,0.6053627192700637,0.6053627192700637,0.6043487759429416,0.6053601490715158,0.6043474908436677,0.6048538199575917,0.6043474908436677,0.6053601490715158,0.6043474908436677,0.6053601490715158,0.6048525348583178,0.6038385915311958,0.6028246482040738,0.6033322624172717,0.6023196041894237,0.6023196041894237,0.6018132750754995,0.6018132750754995,0.6023183190901497,0.6023183190901497,0.6033309773179978,0.6033309773179978,0.6048499646597699,0.6048499646597699,0.604342350446572,0.6063689520015421,0.6063702371008161,0.605862622887618,0.6063689520015421,0.605862622887618,0.6063689520015421,0.605862622887618,0.605356293773694,0.605356293773694,0.6063702371008161,0.6058639079868919,0.607891794641136,0.607384180427938,0.607891794641136,0.6094146372807299,0.6109374799203238,0.6104311508063998,0.6109374799203238,0.6109374799203238,0.6104298657071258,0.6109374799203238,0.6104311508063998,0.6119514232474458,0.6109387650195977],\"type\":\"scatter\"},{\"line\":{\"color\":\"lightsteelblue\",\"width\":2},\"marker\":{\"size\":5,\"symbol\":\"circle\"},\"mode\":\"lines+markers\",\"name\":\"Mean Train Score of Conscientiousness\",\"x\":[1.0,1.0156280663718715,1.0315003692022668,1.04762072543477,1.063993011664413,1.080621165069912,1.0975091843604738,1.114661130737398,1.1320811288707076,1.1497733678910422,1.1677421023970538,1.185991653478544,1.2045264097555923,1.223350828433925,1.2424694363767743,1.2618868311934928,1.2816076823451754,1.3016367322675664,1.32197879751151,1.342638769901227,1.3636216177106917,1.384932386858393,1.4065762021207706,1.428558268364609,1.4508838717986972,1.4735583812450452,1.4965872494299706,1.5199760142953591,1.54373030033042,1.567855819924253,1.5923583747395544,1.6172438571077898,1.642518251446172,1.6681876356967833,1.6942581827881882,1.720736162119889,1.7476279410699778,1.7749399865263569,1.80267886644188,1.830851251413804,1.859463916287923,1.8885237417877707,1.9180377161692852,1.9480129369013324,1.9784566123724907,2.0093760636245164,2.0407787261128902,2.0726721514948863,2.105064009445578,2.137962089502232],\"y\":[0.6266463311982428,0.6268994155891006,0.627152740478271,0.6276593100905075,0.6286726898132932,0.6294325843147,0.6306990484283436,0.63234525937743,0.6325985041004962,0.6334851412125925,0.6341184534355184,0.6348785082691336,0.6353849977152659,0.6366515419950136,0.6374112761642122,0.6384245757208937,0.6394377951114709,0.641210828837351,0.6423506305064093,0.6432371874524013,0.6441235840661851,0.6446302338445259,0.6462766051258206,0.6471633224040211,0.6476699721823618,0.6493164236297609,0.6502028202435446,0.6508360523003663,0.6519756936372163,0.6527358286369357,0.6536223855829277,0.6542554573075412,0.6555221619194972,0.656155393976319,0.6565353813100745,0.6570417905901027,0.6575484403684434,0.6579283475360949,0.6588149044820868,0.6594482167050127,0.6605880183740711,0.6616011575985442,0.6631210267674622,0.6641341659919353,0.664767398048757,0.6659071195517111,0.6661605246069857,0.667553490833006,0.6688200351127536,0.6689465372251304],\"type\":\"scatter\"},{\"line\":{\"color\":\"lightsteelblue\",\"width\":2},\"marker\":{\"size\":5,\"symbol\":\"x\"},\"mode\":\"lines+markers\",\"name\":\"Mean Test Score of Conscientiousness\",\"x\":[1.0,1.0156280663718715,1.0315003692022668,1.04762072543477,1.063993011664413,1.080621165069912,1.0975091843604738,1.114661130737398,1.1320811288707076,1.1497733678910422,1.1677421023970538,1.185991653478544,1.2045264097555923,1.223350828433925,1.2424694363767743,1.2618868311934928,1.2816076823451754,1.3016367322675664,1.32197879751151,1.342638769901227,1.3636216177106917,1.384932386858393,1.4065762021207706,1.428558268364609,1.4508838717986972,1.4735583812450452,1.4965872494299706,1.5199760142953591,1.54373030033042,1.567855819924253,1.5923583747395544,1.6172438571077898,1.642518251446172,1.6681876356967833,1.6942581827881882,1.720736162119889,1.7476279410699778,1.7749399865263569,1.80267886644188,1.830851251413804,1.859463916287923,1.8885237417877707,1.9180377161692852,1.9480129369013324,1.9784566123724907,2.0093760636245164,2.0407787261128902,2.0726721514948863,2.105064009445578,2.137962089502232],\"y\":[0.5582471245903746,0.5582471245903746,0.5567268521493285,0.5567268521493285,0.5562205230354045,0.5567268521493285,0.5577395103771765,0.5587521686050246,0.5582471245903745,0.5572344663625264,0.5562218081346784,0.5557154790207544,0.5541952065797082,0.5536888774657843,0.5531812632525863,0.5526736490393882,0.5531786930540384,0.5546976803958106,0.5541900661826127,0.5552027244104606,0.5557090535243846,0.5531774079547643,0.5521660348261903,0.5501420034697679,0.548621731028722,0.5465964145730258,0.5481179721133458,0.5481192572126197,0.5491319154404678,0.5501458587675898,0.551666131208636,0.55217246032256,0.5511585169954379,0.5521711752232861,0.5536914476643321,0.5531851185504081,0.55217246032256,0.5536927327636061,0.5557180492193021,0.554705390991454,0.5536927327636059,0.5516674163079098,0.5511610871939858,0.5491344856390157,0.5496395296536658,0.5501471438668638,0.5516674163079098,0.5501484289661377,0.5521750305211077,0.5501497140654115],\"type\":\"scatter\"},{\"line\":{\"color\":\"darkseagreen\",\"width\":2},\"marker\":{\"size\":5,\"symbol\":\"circle\"},\"mode\":\"lines+markers\",\"name\":\"Mean Train Score of Extraversion\",\"x\":[1.0,1.0156280663718715,1.0315003692022668,1.04762072543477,1.063993011664413,1.080621165069912,1.0975091843604738,1.114661130737398,1.1320811288707076,1.1497733678910422,1.1677421023970538,1.185991653478544,1.2045264097555923,1.223350828433925,1.2424694363767743,1.2618868311934928,1.2816076823451754,1.3016367322675664,1.32197879751151,1.342638769901227,1.3636216177106917,1.384932386858393,1.4065762021207706,1.428558268364609,1.4508838717986972,1.4735583812450452,1.4965872494299706,1.5199760142953591,1.54373030033042,1.567855819924253,1.5923583747395544,1.6172438571077898,1.642518251446172,1.6681876356967833,1.6942581827881882,1.720736162119889,1.7476279410699778,1.7749399865263569,1.80267886644188,1.830851251413804,1.859463916287923,1.8885237417877707,1.9180377161692852,1.9480129369013324,1.9784566123724907,2.0093760636245164,2.0407787261128902,2.0726721514948863,2.105064009445578,2.137962089502232],\"y\":[0.6298133733094973,0.6308265125339704,0.6325993859276421,0.6351319934905122,0.6365251200487411,0.6371582719394585,0.6379179259425529,0.6381713309978274,0.6399443647237075,0.6404508541698399,0.6407041790590102,0.6417175587817959,0.6431108456722329,0.6445038920643573,0.6451370439550749,0.6461502633456522,0.6476702126806744,0.648936756960422,0.6496967316279331,0.65045662612934,0.6512166809629553,0.6524832252427029,0.6537498496885547,0.6541298370223102,0.655396461468162,0.6565365036355328,0.6578029677491763,0.6586895246951683,0.6604625584210484,0.6612222124241429,0.6622351913164076,0.6646414570991095,0.6667945583248491,0.6681876848830777,0.668440929606144,0.6692010646058633,0.6702141236642323,0.6721139801669058,0.6724939675006614,0.6733806046127576,0.674646988560297,0.675280380949327,0.6765465243985538,0.6774328408462333,0.6784460602368106,0.6800925918503139,0.6811058112408912,0.6816124610192318,0.6827522626882903,0.6837653217466592],\"type\":\"scatter\"},{\"line\":{\"color\":\"darkseagreen\",\"width\":2},\"marker\":{\"size\":5,\"symbol\":\"x\"},\"mode\":\"lines+markers\",\"name\":\"Mean Test Score of Extraversion\",\"x\":[1.0,1.0156280663718715,1.0315003692022668,1.04762072543477,1.063993011664413,1.080621165069912,1.0975091843604738,1.114661130737398,1.1320811288707076,1.1497733678910422,1.1677421023970538,1.185991653478544,1.2045264097555923,1.223350828433925,1.2424694363767743,1.2618868311934928,1.2816076823451754,1.3016367322675664,1.32197879751151,1.342638769901227,1.3636216177106917,1.384932386858393,1.4065762021207706,1.428558268364609,1.4508838717986972,1.4735583812450452,1.4965872494299706,1.5199760142953591,1.54373030033042,1.567855819924253,1.5923583747395544,1.6172438571077898,1.642518251446172,1.6681876356967833,1.6942581827881882,1.720736162119889,1.7476279410699778,1.7749399865263569,1.80267886644188,1.830851251413804,1.859463916287923,1.8885237417877707,1.9180377161692852,1.9480129369013324,1.9784566123724907,2.0093760636245164,2.0407787261128902,2.0726721514948863,2.105064009445578,2.137962089502232],\"y\":[0.5445890895071643,0.5440827603932403,0.5445903746064383,0.5435777163785902,0.5456017477350125,0.5471207350767846,0.5466131208635867,0.5461055066503888,0.5440801901946926,0.5445852342093427,0.5450915633232667,0.5445865193086166,0.5435738610807686,0.5450928484225407,0.5466118357643128,0.5461042215511148,0.5461042215511148,0.5466105506650389,0.5481295380068111,0.5496459551500353,0.5496459551500353,0.5511649424918075,0.5506586133778835,0.5496459551500353,0.5486332969221872,0.5486332969221872,0.5491383409368373,0.5481256827089893,0.5471117393818673,0.5501497140654117,0.5501509991646855,0.5516699865064576,0.5501509991646855,0.5501509991646854,0.5506573282786095,0.5511649424918075,0.5511649424918075,0.5526839298335796,0.5531902589475036,0.5536965880614277,0.5531915440467776,0.5526865000321275,0.5516738418042795,0.5511675126903554,0.5516725567050055,0.5511662275910815,0.5511662275910815,0.5511662275910815,0.5506598984771574,0.5506598984771574],\"type\":\"scatter\"},{\"line\":{\"color\":\"navajowhite\",\"width\":2},\"marker\":{\"size\":5,\"symbol\":\"circle\"},\"mode\":\"lines+markers\",\"name\":\"Mean Train Score of Agreeableness\",\"x\":[1.0,1.0156280663718715,1.0315003692022668,1.04762072543477,1.063993011664413,1.080621165069912,1.0975091843604738,1.114661130737398,1.1320811288707076,1.1497733678910422,1.1677421023970538,1.185991653478544,1.2045264097555923,1.223350828433925,1.2424694363767743,1.2618868311934928,1.2816076823451754,1.3016367322675664,1.32197879751151,1.342638769901227,1.3636216177106917,1.384932386858393,1.4065762021207706,1.428558268364609,1.4508838717986972,1.4735583812450452,1.4965872494299706,1.5199760142953591,1.54373030033042,1.567855819924253,1.5923583747395544,1.6172438571077898,1.642518251446172,1.6681876356967833,1.6942581827881882,1.720736162119889,1.7476279410699778,1.7749399865263569,1.80267886644188,1.830851251413804,1.859463916287923,1.8885237417877707,1.9180377161692852,1.9480129369013324,1.9784566123724907,2.0093760636245164,2.0407787261128902,2.0726721514948863,2.105064009445578,2.137962089502232],\"y\":[0.619046103526507,0.6218322764768601,0.6219589389214452,0.6247455127023193,0.626645048540576,0.6280380949327006,0.6287979092680033,0.6306976856045727,0.6309506898293263,0.6328506264981041,0.6334840188871341,0.6337371032779919,0.6351302298362207,0.6346239007222966,0.6356369597806656,0.6361436095590063,0.6374098331743372,0.6391831073985298,0.6399429217338325,0.6409562212905139,0.6413360482920611,0.6423492676826384,0.6438690566854522,0.6456420904113322,0.6467819722464948,0.6483018414154127,0.6491883181953007,0.6502012970875655,0.6509612717550766,0.650961432087285,0.6524815417545153,0.6529881915328561,0.6534947611450926,0.6542545754803955,0.6545077400373575,0.655140891928075,0.6559007864294819,0.6562807737632375,0.6575473982090891,0.658180630265911,0.6585606175996664,0.6595736766580355,0.6600802462702721,0.6613467905500197,0.6622331871638034,0.6637529761666172,0.6645128706680241,0.6659058368940445,0.6671721406754797,0.6675522081753393],\"type\":\"scatter\"},{\"line\":{\"color\":\"navajowhite\",\"width\":2},\"marker\":{\"size\":5,\"symbol\":\"x\"},\"mode\":\"lines+markers\",\"name\":\"Mean Test Score of Agreeableness\",\"x\":[1.0,1.0156280663718715,1.0315003692022668,1.04762072543477,1.063993011664413,1.080621165069912,1.0975091843604738,1.114661130737398,1.1320811288707076,1.1497733678910422,1.1677421023970538,1.185991653478544,1.2045264097555923,1.223350828433925,1.2424694363767743,1.2618868311934928,1.2816076823451754,1.3016367322675664,1.32197879751151,1.342638769901227,1.3636216177106917,1.384932386858393,1.4065762021207706,1.428558268364609,1.4508838717986972,1.4735583812450452,1.4965872494299706,1.5199760142953591,1.54373030033042,1.567855819924253,1.5923583747395544,1.6172438571077898,1.642518251446172,1.6681876356967833,1.6942581827881882,1.720736162119889,1.7476279410699778,1.7749399865263569,1.80267886644188,1.830851251413804,1.859463916287923,1.8885237417877707,1.9180377161692852,1.9480129369013324,1.9784566123724907,2.0093760636245164,2.0407787261128902,2.0726721514948863,2.105064009445578,2.137962089502232],\"y\":[0.5405256056030329,0.5400192764891087,0.5405268907023068,0.542550922058729,0.540523035404485,0.5405243205037589,0.5405256056030329,0.5405243205037589,0.541536978731607,0.5430572511726531,0.5450825676283493,0.5450825676283493,0.5445762385144253,0.5430572511726531,0.5430559660733791,0.5405243205037589,0.5415356936323331,0.5415331234337852,0.5430521107755574,0.5435571547902075,0.5440634839041316,0.5440647690034055,0.5440634839041316,0.5455850414444516,0.5465976996722997,0.5465976996722997,0.5460926556576495,0.5465976996722997,0.5465976996722997,0.5471027436869498,0.5465951294737519,0.548114116815524,0.5476077877015999,0.546593844374478,0.546593844374478,0.545579901047356,0.5465925592752041,0.5460849450620061,0.544058343507036,0.544058343507036,0.545072286834158,0.5440596286063099,0.5460849450620061,0.5470976032898542,0.5435520143931118,0.544565957720234,0.5440596286063099,0.5445685279187817,0.5460888003598278,0.5465951294737519],\"type\":\"scatter\"},{\"line\":{\"color\":\"indianred\",\"width\":2},\"marker\":{\"size\":5,\"symbol\":\"circle\"},\"mode\":\"lines+markers\",\"name\":\"Mean Train Score of Neuroticism\",\"x\":[1.0,1.0156280663718715,1.0315003692022668,1.04762072543477,1.063993011664413,1.080621165069912,1.0975091843604738,1.114661130737398,1.1320811288707076,1.1497733678910422,1.1677421023970538,1.185991653478544,1.2045264097555923,1.223350828433925,1.2424694363767743,1.2618868311934928,1.2816076823451754,1.3016367322675664,1.32197879751151,1.342638769901227,1.3636216177106917,1.384932386858393,1.4065762021207706,1.428558268364609,1.4508838717986972,1.4735583812450452,1.4965872494299706,1.5199760142953591,1.54373030033042,1.567855819924253,1.5923583747395544,1.6172438571077898,1.642518251446172,1.6681876356967833,1.6942581827881882,1.720736162119889,1.7476279410699778,1.7749399865263569,1.80267886644188,1.830851251413804,1.859463916287923,1.8885237417877707,1.9180377161692852,1.9480129369013324,1.9784566123724907,2.0093760636245164,2.0407787261128902,2.0726721514948863,2.105064009445578,2.137962089502232],\"y\":[0.6594489381999502,0.660588900201217,0.661728621704171,0.6619817862611331,0.6628681027088127,0.6632481702086724,0.6650208832701358,0.6652742081593062,0.6664140899944686,0.6669207397728093,0.666920579440601,0.6676804739420079,0.669326925389407,0.6703399844477758,0.6699602376123327,0.6703403852782966,0.670213482335399,0.6707200519476355,0.6718597734505897,0.6718597734505896,0.6726197481181007,0.6723665033950346,0.6733797227856118,0.6733797227856118,0.6732531405071307,0.6737597902854715,0.6743931826745015,0.6746464273975677,0.6746464273975677,0.6754061615667664,0.676672705846514,0.6775593429586102,0.6788258070722537,0.6797122036860375,0.680345355576755,0.6808520053550957,0.6816118196903985,0.6818651445795688,0.6833849335823827,0.6832581108055892,0.6841444272532688,0.6841444272532687,0.6847774989778821,0.685410731034704,0.6859173808130447,0.6878171571496141,0.6888300558757746,0.6903498448785885,0.691489726713751,0.692883093770292],\"type\":\"scatter\"},{\"line\":{\"color\":\"indianred\",\"width\":2},\"marker\":{\"size\":5,\"symbol\":\"x\"},\"mode\":\"lines+markers\",\"name\":\"Mean Test Score of Neuroticism\",\"x\":[1.0,1.0156280663718715,1.0315003692022668,1.04762072543477,1.063993011664413,1.080621165069912,1.0975091843604738,1.114661130737398,1.1320811288707076,1.1497733678910422,1.1677421023970538,1.185991653478544,1.2045264097555923,1.223350828433925,1.2424694363767743,1.2618868311934928,1.2816076823451754,1.3016367322675664,1.32197879751151,1.342638769901227,1.3636216177106917,1.384932386858393,1.4065762021207706,1.428558268364609,1.4508838717986972,1.4735583812450452,1.4965872494299706,1.5199760142953591,1.54373030033042,1.567855819924253,1.5923583747395544,1.6172438571077898,1.642518251446172,1.6681876356967833,1.6942581827881882,1.720736162119889,1.7476279410699778,1.7749399865263569,1.80267886644188,1.830851251413804,1.859463916287923,1.8885237417877707,1.9180377161692852,1.9480129369013324,1.9784566123724907,2.0093760636245164,2.0407787261128902,2.0726721514948863,2.105064009445578,2.137962089502232],\"y\":[0.5856300199190387,0.5851249759043886,0.5866439632461607,0.5846173616911906,0.5851249759043886,0.5866452483454346,0.5871515774593588,0.5856325901175865,0.5851262610036625,0.5846199318897385,0.5841136027758144,0.5851275461029364,0.5851275461029364,0.5866452483454346,0.5856325901175865,0.5861389192315106,0.5846199318897385,0.5841123176765405,0.5851275461029364,0.5810756280922701,0.5810756280922701,0.5810743429929961,0.5810743429929961,0.5805667287797982,0.5790464563387522,0.5790464563387522,0.5790464563387522,0.5785401272248281,0.57752746899698,0.57752746899698,0.5785388421255542,0.577018569684508,0.5770172845852342,0.5795515003534023,0.5795515003534023,0.5780312279123563,0.5770159994859603,0.5775223285998843,0.5775223285998844,0.5770159994859603,0.5790438861402044,0.5790426010409304,0.5790413159416564,0.5785349868277324,0.5785349868277324,0.5805628734819764,0.5785375570262803,0.5795515003534023,0.5810717727944483,0.5805641585812504],\"type\":\"scatter\"}],                        {\"template\":{\"data\":{\"barpolar\":[{\"marker\":{\"line\":{\"color\":\"rgb(17,17,17)\",\"width\":0.5},\"pattern\":{\"fillmode\":\"overlay\",\"size\":10,\"solidity\":0.2}},\"type\":\"barpolar\"}],\"bar\":[{\"error_x\":{\"color\":\"#f2f5fa\"},\"error_y\":{\"color\":\"#f2f5fa\"},\"marker\":{\"line\":{\"color\":\"rgb(17,17,17)\",\"width\":0.5},\"pattern\":{\"fillmode\":\"overlay\",\"size\":10,\"solidity\":0.2}},\"type\":\"bar\"}],\"carpet\":[{\"aaxis\":{\"endlinecolor\":\"#A2B1C6\",\"gridcolor\":\"#506784\",\"linecolor\":\"#506784\",\"minorgridcolor\":\"#506784\",\"startlinecolor\":\"#A2B1C6\"},\"baxis\":{\"endlinecolor\":\"#A2B1C6\",\"gridcolor\":\"#506784\",\"linecolor\":\"#506784\",\"minorgridcolor\":\"#506784\",\"startlinecolor\":\"#A2B1C6\"},\"type\":\"carpet\"}],\"choropleth\":[{\"colorbar\":{\"outlinewidth\":0,\"ticks\":\"\"},\"type\":\"choropleth\"}],\"contourcarpet\":[{\"colorbar\":{\"outlinewidth\":0,\"ticks\":\"\"},\"type\":\"contourcarpet\"}],\"contour\":[{\"colorbar\":{\"outlinewidth\":0,\"ticks\":\"\"},\"colorscale\":[[0.0,\"#0d0887\"],[0.1111111111111111,\"#46039f\"],[0.2222222222222222,\"#7201a8\"],[0.3333333333333333,\"#9c179e\"],[0.4444444444444444,\"#bd3786\"],[0.5555555555555556,\"#d8576b\"],[0.6666666666666666,\"#ed7953\"],[0.7777777777777778,\"#fb9f3a\"],[0.8888888888888888,\"#fdca26\"],[1.0,\"#f0f921\"]],\"type\":\"contour\"}],\"heatmapgl\":[{\"colorbar\":{\"outlinewidth\":0,\"ticks\":\"\"},\"colorscale\":[[0.0,\"#0d0887\"],[0.1111111111111111,\"#46039f\"],[0.2222222222222222,\"#7201a8\"],[0.3333333333333333,\"#9c179e\"],[0.4444444444444444,\"#bd3786\"],[0.5555555555555556,\"#d8576b\"],[0.6666666666666666,\"#ed7953\"],[0.7777777777777778,\"#fb9f3a\"],[0.8888888888888888,\"#fdca26\"],[1.0,\"#f0f921\"]],\"type\":\"heatmapgl\"}],\"heatmap\":[{\"colorbar\":{\"outlinewidth\":0,\"ticks\":\"\"},\"colorscale\":[[0.0,\"#0d0887\"],[0.1111111111111111,\"#46039f\"],[0.2222222222222222,\"#7201a8\"],[0.3333333333333333,\"#9c179e\"],[0.4444444444444444,\"#bd3786\"],[0.5555555555555556,\"#d8576b\"],[0.6666666666666666,\"#ed7953\"],[0.7777777777777778,\"#fb9f3a\"],[0.8888888888888888,\"#fdca26\"],[1.0,\"#f0f921\"]],\"type\":\"heatmap\"}],\"histogram2dcontour\":[{\"colorbar\":{\"outlinewidth\":0,\"ticks\":\"\"},\"colorscale\":[[0.0,\"#0d0887\"],[0.1111111111111111,\"#46039f\"],[0.2222222222222222,\"#7201a8\"],[0.3333333333333333,\"#9c179e\"],[0.4444444444444444,\"#bd3786\"],[0.5555555555555556,\"#d8576b\"],[0.6666666666666666,\"#ed7953\"],[0.7777777777777778,\"#fb9f3a\"],[0.8888888888888888,\"#fdca26\"],[1.0,\"#f0f921\"]],\"type\":\"histogram2dcontour\"}],\"histogram2d\":[{\"colorbar\":{\"outlinewidth\":0,\"ticks\":\"\"},\"colorscale\":[[0.0,\"#0d0887\"],[0.1111111111111111,\"#46039f\"],[0.2222222222222222,\"#7201a8\"],[0.3333333333333333,\"#9c179e\"],[0.4444444444444444,\"#bd3786\"],[0.5555555555555556,\"#d8576b\"],[0.6666666666666666,\"#ed7953\"],[0.7777777777777778,\"#fb9f3a\"],[0.8888888888888888,\"#fdca26\"],[1.0,\"#f0f921\"]],\"type\":\"histogram2d\"}],\"histogram\":[{\"marker\":{\"pattern\":{\"fillmode\":\"overlay\",\"size\":10,\"solidity\":0.2}},\"type\":\"histogram\"}],\"mesh3d\":[{\"colorbar\":{\"outlinewidth\":0,\"ticks\":\"\"},\"type\":\"mesh3d\"}],\"parcoords\":[{\"line\":{\"colorbar\":{\"outlinewidth\":0,\"ticks\":\"\"}},\"type\":\"parcoords\"}],\"pie\":[{\"automargin\":true,\"type\":\"pie\"}],\"scatter3d\":[{\"line\":{\"colorbar\":{\"outlinewidth\":0,\"ticks\":\"\"}},\"marker\":{\"colorbar\":{\"outlinewidth\":0,\"ticks\":\"\"}},\"type\":\"scatter3d\"}],\"scattercarpet\":[{\"marker\":{\"colorbar\":{\"outlinewidth\":0,\"ticks\":\"\"}},\"type\":\"scattercarpet\"}],\"scattergeo\":[{\"marker\":{\"colorbar\":{\"outlinewidth\":0,\"ticks\":\"\"}},\"type\":\"scattergeo\"}],\"scattergl\":[{\"marker\":{\"line\":{\"color\":\"#283442\"}},\"type\":\"scattergl\"}],\"scattermapbox\":[{\"marker\":{\"colorbar\":{\"outlinewidth\":0,\"ticks\":\"\"}},\"type\":\"scattermapbox\"}],\"scatterpolargl\":[{\"marker\":{\"colorbar\":{\"outlinewidth\":0,\"ticks\":\"\"}},\"type\":\"scatterpolargl\"}],\"scatterpolar\":[{\"marker\":{\"colorbar\":{\"outlinewidth\":0,\"ticks\":\"\"}},\"type\":\"scatterpolar\"}],\"scatter\":[{\"marker\":{\"line\":{\"color\":\"#283442\"}},\"type\":\"scatter\"}],\"scatterternary\":[{\"marker\":{\"colorbar\":{\"outlinewidth\":0,\"ticks\":\"\"}},\"type\":\"scatterternary\"}],\"surface\":[{\"colorbar\":{\"outlinewidth\":0,\"ticks\":\"\"},\"colorscale\":[[0.0,\"#0d0887\"],[0.1111111111111111,\"#46039f\"],[0.2222222222222222,\"#7201a8\"],[0.3333333333333333,\"#9c179e\"],[0.4444444444444444,\"#bd3786\"],[0.5555555555555556,\"#d8576b\"],[0.6666666666666666,\"#ed7953\"],[0.7777777777777778,\"#fb9f3a\"],[0.8888888888888888,\"#fdca26\"],[1.0,\"#f0f921\"]],\"type\":\"surface\"}],\"table\":[{\"cells\":{\"fill\":{\"color\":\"#506784\"},\"line\":{\"color\":\"rgb(17,17,17)\"}},\"header\":{\"fill\":{\"color\":\"#2a3f5f\"},\"line\":{\"color\":\"rgb(17,17,17)\"}},\"type\":\"table\"}]},\"layout\":{\"annotationdefaults\":{\"arrowcolor\":\"#f2f5fa\",\"arrowhead\":0,\"arrowwidth\":1},\"autotypenumbers\":\"strict\",\"coloraxis\":{\"colorbar\":{\"outlinewidth\":0,\"ticks\":\"\"}},\"colorscale\":{\"diverging\":[[0,\"#8e0152\"],[0.1,\"#c51b7d\"],[0.2,\"#de77ae\"],[0.3,\"#f1b6da\"],[0.4,\"#fde0ef\"],[0.5,\"#f7f7f7\"],[0.6,\"#e6f5d0\"],[0.7,\"#b8e186\"],[0.8,\"#7fbc41\"],[0.9,\"#4d9221\"],[1,\"#276419\"]],\"sequential\":[[0.0,\"#0d0887\"],[0.1111111111111111,\"#46039f\"],[0.2222222222222222,\"#7201a8\"],[0.3333333333333333,\"#9c179e\"],[0.4444444444444444,\"#bd3786\"],[0.5555555555555556,\"#d8576b\"],[0.6666666666666666,\"#ed7953\"],[0.7777777777777778,\"#fb9f3a\"],[0.8888888888888888,\"#fdca26\"],[1.0,\"#f0f921\"]],\"sequentialminus\":[[0.0,\"#0d0887\"],[0.1111111111111111,\"#46039f\"],[0.2222222222222222,\"#7201a8\"],[0.3333333333333333,\"#9c179e\"],[0.4444444444444444,\"#bd3786\"],[0.5555555555555556,\"#d8576b\"],[0.6666666666666666,\"#ed7953\"],[0.7777777777777778,\"#fb9f3a\"],[0.8888888888888888,\"#fdca26\"],[1.0,\"#f0f921\"]]},\"colorway\":[\"#636efa\",\"#EF553B\",\"#00cc96\",\"#ab63fa\",\"#FFA15A\",\"#19d3f3\",\"#FF6692\",\"#B6E880\",\"#FF97FF\",\"#FECB52\"],\"font\":{\"color\":\"#f2f5fa\"},\"geo\":{\"bgcolor\":\"rgb(17,17,17)\",\"lakecolor\":\"rgb(17,17,17)\",\"landcolor\":\"rgb(17,17,17)\",\"showlakes\":true,\"showland\":true,\"subunitcolor\":\"#506784\"},\"hoverlabel\":{\"align\":\"left\"},\"hovermode\":\"closest\",\"mapbox\":{\"style\":\"dark\"},\"paper_bgcolor\":\"rgb(17,17,17)\",\"plot_bgcolor\":\"rgb(17,17,17)\",\"polar\":{\"angularaxis\":{\"gridcolor\":\"#506784\",\"linecolor\":\"#506784\",\"ticks\":\"\"},\"bgcolor\":\"rgb(17,17,17)\",\"radialaxis\":{\"gridcolor\":\"#506784\",\"linecolor\":\"#506784\",\"ticks\":\"\"}},\"scene\":{\"xaxis\":{\"backgroundcolor\":\"rgb(17,17,17)\",\"gridcolor\":\"#506784\",\"gridwidth\":2,\"linecolor\":\"#506784\",\"showbackground\":true,\"ticks\":\"\",\"zerolinecolor\":\"#C8D4E3\"},\"yaxis\":{\"backgroundcolor\":\"rgb(17,17,17)\",\"gridcolor\":\"#506784\",\"gridwidth\":2,\"linecolor\":\"#506784\",\"showbackground\":true,\"ticks\":\"\",\"zerolinecolor\":\"#C8D4E3\"},\"zaxis\":{\"backgroundcolor\":\"rgb(17,17,17)\",\"gridcolor\":\"#506784\",\"gridwidth\":2,\"linecolor\":\"#506784\",\"showbackground\":true,\"ticks\":\"\",\"zerolinecolor\":\"#C8D4E3\"}},\"shapedefaults\":{\"line\":{\"color\":\"#f2f5fa\"}},\"sliderdefaults\":{\"bgcolor\":\"#C8D4E3\",\"bordercolor\":\"rgb(17,17,17)\",\"borderwidth\":1,\"tickwidth\":0},\"ternary\":{\"aaxis\":{\"gridcolor\":\"#506784\",\"linecolor\":\"#506784\",\"ticks\":\"\"},\"baxis\":{\"gridcolor\":\"#506784\",\"linecolor\":\"#506784\",\"ticks\":\"\"},\"bgcolor\":\"rgb(17,17,17)\",\"caxis\":{\"gridcolor\":\"#506784\",\"linecolor\":\"#506784\",\"ticks\":\"\"}},\"title\":{\"x\":0.05},\"updatemenudefaults\":{\"bgcolor\":\"#506784\",\"borderwidth\":0},\"xaxis\":{\"automargin\":true,\"gridcolor\":\"#283442\",\"linecolor\":\"#506784\",\"ticks\":\"\",\"title\":{\"standoff\":15},\"zerolinecolor\":\"#283442\",\"zerolinewidth\":2},\"yaxis\":{\"automargin\":true,\"gridcolor\":\"#283442\",\"linecolor\":\"#506784\",\"ticks\":\"\",\"title\":{\"standoff\":15},\"zerolinecolor\":\"#283442\",\"zerolinewidth\":2}}},\"title\":{\"text\":\"Performance of Each Personality\"},\"xaxis\":{\"title\":{\"text\":\"C\"}},\"yaxis\":{\"title\":{\"text\":\"Accuracy\"}},\"paper_bgcolor\":\"black\"},                        {\"responsive\": true}                    ).then(function(){\n",
       "                            \n",
       "var gd = document.getElementById('c64262a8-245b-4208-93b5-0b050fb35955');\n",
       "var x = new MutationObserver(function (mutations, observer) {{\n",
       "        var display = window.getComputedStyle(gd).display;\n",
       "        if (!display || display === 'none') {{\n",
       "            console.log([gd, 'removed!']);\n",
       "            Plotly.purge(gd);\n",
       "            observer.disconnect();\n",
       "        }}\n",
       "}});\n",
       "\n",
       "// Listen for the removal of the full notebook cells\n",
       "var notebookContainer = gd.closest('#notebook-container');\n",
       "if (notebookContainer) {{\n",
       "    x.observe(notebookContainer, {childList: true});\n",
       "}}\n",
       "\n",
       "// Listen for the clearing of the current output cell\n",
       "var outputEl = gd.closest('.output');\n",
       "if (outputEl) {{\n",
       "    x.observe(outputEl, {childList: true});\n",
       "}}\n",
       "\n",
       "                        })                };                });            </script>        </div>"
      ]
     },
     "metadata": {},
     "output_type": "display_data"
    }
   ],
   "source": [
    "colors = ['darksalmon', 'lightsteelblue', 'darkseagreen', 'navajowhite', 'indianred']\n",
    "fig = go.Figure()\n",
    "\n",
    "for n in range(0, 5):\n",
    "    \n",
    "    fig.add_trace(\n",
    "        go.Scatter(\n",
    "            x=all_records[all_records.y == new_y_cols[n]]['C'], \n",
    "            y=all_records[all_records.y == new_y_cols[n]]['mean_train_score'],\n",
    "            name=f'Mean Train Score of {new_y_cols[n]}',\n",
    "            mode='lines+markers',  \n",
    "            marker=dict(\n",
    "                symbol='circle', \n",
    "                size=5),\n",
    "            line=dict(\n",
    "                width=2,\n",
    "                color=colors[n]\n",
    "            )))\n",
    "    \n",
    "    fig.add_trace(\n",
    "        go.Scatter(\n",
    "            x=all_records[all_records.y == new_y_cols[n]]['C'], \n",
    "            y=all_records[all_records.y == new_y_cols[n]]['mean_test_score'],\n",
    "            name=f'Mean Test Score of {new_y_cols[n]}',\n",
    "            mode='lines+markers',  \n",
    "            marker=dict(\n",
    "                symbol='x', \n",
    "                size=5),\n",
    "            line=dict(\n",
    "                width=2, \n",
    "                color=colors[n]\n",
    "            )))\n",
    "    \n",
    "fig.update_layout(\n",
    "    title='Performance of Each Personality',\n",
    "    xaxis_title='C',  # y-axis name\n",
    "    yaxis_title='Accuracy',  # x-axis name\n",
    "    template = 'plotly_dark',\n",
    "    paper_bgcolor='black',\n",
    "#     bgcolor=\"#494b5a\"\n",
    ")"
   ]
  }
 ],
 "metadata": {
  "kernelspec": {
   "display_name": "Python 3 (ipykernel)",
   "language": "python",
   "name": "python3"
  },
  "language_info": {
   "codemirror_mode": {
    "name": "ipython",
    "version": 3
   },
   "file_extension": ".py",
   "mimetype": "text/x-python",
   "name": "python",
   "nbconvert_exporter": "python",
   "pygments_lexer": "ipython3",
   "version": "3.9.17"
  },
  "varInspector": {
   "cols": {
    "lenName": 16,
    "lenType": 16,
    "lenVar": 40
   },
   "kernels_config": {
    "python": {
     "delete_cmd_postfix": "",
     "delete_cmd_prefix": "del ",
     "library": "var_list.py",
     "varRefreshCmd": "print(var_dic_list())"
    },
    "r": {
     "delete_cmd_postfix": ") ",
     "delete_cmd_prefix": "rm(",
     "library": "var_list.r",
     "varRefreshCmd": "cat(var_dic_list()) "
    }
   },
   "types_to_exclude": [
    "module",
    "function",
    "builtin_function_or_method",
    "instance",
    "_Feature"
   ],
   "window_display": false
  }
 },
 "nbformat": 4,
 "nbformat_minor": 5
}
